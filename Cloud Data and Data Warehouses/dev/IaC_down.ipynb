{
 "cells": [
  {
   "cell_type": "markdown",
   "metadata": {
    "editable": true
   },
   "source": [
    "# Imports"
   ]
  },
  {
   "cell_type": "code",
   "execution_count": 1,
   "metadata": {
    "editable": true
   },
   "outputs": [],
   "source": [
    "import pandas as pd\n",
    "import boto3\n",
    "import json\n",
    "import configparser"
   ]
  },
  {
   "cell_type": "code",
   "execution_count": 2,
   "metadata": {
    "editable": true
   },
   "outputs": [],
   "source": [
    "from IPython.display import JSON"
   ]
  },
  {
   "cell_type": "code",
   "execution_count": 3,
   "metadata": {
    "editable": true
   },
   "outputs": [],
   "source": [
    "import getpass"
   ]
  },
  {
   "cell_type": "markdown",
   "metadata": {
    "editable": true
   },
   "source": [
    "# Configuration variables"
   ]
  },
  {
   "cell_type": "code",
   "execution_count": 4,
   "metadata": {
    "editable": true
   },
   "outputs": [],
   "source": [
    "# AWS credentials\n",
    "AWS_KEY                = None\n",
    "AWS_SECRET             = None\n",
    "AWS_REGION             = None\n",
    "\n",
    "# Cluster configuration\n",
    "DWH_CLUSTER_TYPE       = None\n",
    "DWH_NUM_NODES          = None\n",
    "DWH_NODE_TYPE          = None\n",
    "\n",
    "# Redshift details\n",
    "DWH_CLUSTER_IDENTIFIER = None\n",
    "DWH_DB                 = None\n",
    "DWH_DB_USER            = None\n",
    "DWH_DB_PASSWORD        = None\n",
    "DWH_PORT               = None\n",
    "\n",
    "# IAM role\n",
    "DWH_IAM_ROLE_NAME      = None"
   ]
  },
  {
   "cell_type": "code",
   "execution_count": 5,
   "metadata": {
    "editable": true
   },
   "outputs": [],
   "source": [
    "AWS_SECRET = getpass.getpass(\"Please give your secret key\")"
   ]
  },
  {
   "cell_type": "markdown",
   "metadata": {
    "editable": true
   },
   "source": [
    "# Parse config file"
   ]
  },
  {
   "cell_type": "code",
   "execution_count": 7,
   "metadata": {
    "editable": true
   },
   "outputs": [],
   "source": [
    "config = configparser.ConfigParser()\n",
    "\n",
    "with open('/home/workspace/dev/dwh.cfg') as fp:\n",
    "    config.read_file(fp)\n",
    "    AWS_KEY                = config.get('AWS','KEY')\n",
    "#     AWS_SECRET             = config.get('AWS','SECRET')\n",
    "    AWS_REGION             = config.get('AWS','REGION')\n",
    "    DWH_CLUSTER_TYPE       = config.get(\"DWH\",\"DWH_CLUSTER_TYPE\")\n",
    "    DWH_NUM_NODES          = config.get(\"DWH\",\"DWH_NUM_NODES\")\n",
    "    DWH_NODE_TYPE          = config.get(\"DWH\",\"DWH_NODE_TYPE\")\n",
    "    DWH_CLUSTER_IDENTIFIER = config.get(\"DWH\",\"DWH_CLUSTER_IDENTIFIER\")\n",
    "    DWH_DB                 = config.get(\"DWH\",\"DWH_DB\")\n",
    "    DWH_DB_USER            = config.get(\"DWH\",\"DWH_DB_USER\")\n",
    "    DWH_DB_PASSWORD        = config.get(\"DWH\",\"DWH_DB_PASSWORD\")\n",
    "    DWH_PORT               = config.get(\"DWH\",\"DWH_PORT\")\n",
    "    DWH_IAM_ROLE_NAME      = config.get(\"DWH\", \"DWH_IAM_ROLE_NAME\")"
   ]
  },
  {
   "cell_type": "markdown",
   "metadata": {
    "editable": true
   },
   "source": [
    "# Remove IAM Role "
   ]
  },
  {
   "cell_type": "code",
   "execution_count": 8,
   "metadata": {
    "editable": true
   },
   "outputs": [],
   "source": [
    "from botocore.exceptions import ClientError"
   ]
  },
  {
   "cell_type": "code",
   "execution_count": 9,
   "metadata": {
    "editable": true
   },
   "outputs": [],
   "source": [
    "aws_iam = boto3.client(\n",
    "    'iam',\n",
    "    region_name=AWS_REGION,\n",
    "    aws_access_key_id=AWS_KEY,\n",
    "    aws_secret_access_key=AWS_SECRET,\n",
    ")"
   ]
  },
  {
   "cell_type": "code",
   "execution_count": 10,
   "metadata": {
    "editable": true
   },
   "outputs": [
    {
     "data": {
      "text/plain": [
       "{'ResponseMetadata': {'RequestId': '92d20a4d-9995-4b69-93cb-f6f20fc5f7fc',\n",
       "  'HTTPStatusCode': 200,\n",
       "  'HTTPHeaders': {'x-amzn-requestid': '92d20a4d-9995-4b69-93cb-f6f20fc5f7fc',\n",
       "   'content-type': 'text/xml',\n",
       "   'content-length': '212',\n",
       "   'date': 'Thu, 03 Sep 2020 13:40:12 GMT'},\n",
       "  'RetryAttempts': 0}}"
      ]
     },
     "execution_count": 10,
     "metadata": {},
     "output_type": "execute_result"
    }
   ],
   "source": [
    "aws_iam.detach_role_policy(RoleName=DWH_IAM_ROLE_NAME, PolicyArn=\"arn:aws:iam::aws:policy/AmazonS3ReadOnlyAccess\")"
   ]
  },
  {
   "cell_type": "code",
   "execution_count": 11,
   "metadata": {
    "editable": true
   },
   "outputs": [
    {
     "data": {
      "text/plain": [
       "{'ResponseMetadata': {'RequestId': 'd43370ac-0132-4302-bd9f-01589ef02bc1',\n",
       "  'HTTPStatusCode': 200,\n",
       "  'HTTPHeaders': {'x-amzn-requestid': 'd43370ac-0132-4302-bd9f-01589ef02bc1',\n",
       "   'content-type': 'text/xml',\n",
       "   'content-length': '200',\n",
       "   'date': 'Thu, 03 Sep 2020 13:40:12 GMT'},\n",
       "  'RetryAttempts': 0}}"
      ]
     },
     "execution_count": 11,
     "metadata": {},
     "output_type": "execute_result"
    }
   ],
   "source": [
    "aws_iam.delete_role(RoleName=DWH_IAM_ROLE_NAME)"
   ]
  },
  {
   "cell_type": "markdown",
   "metadata": {
    "editable": true
   },
   "source": [
    "# Remove Redshift cluster"
   ]
  },
  {
   "cell_type": "code",
   "execution_count": 12,
   "metadata": {
    "editable": true
   },
   "outputs": [],
   "source": [
    "aws_redshift = boto3.client(\n",
    "    'redshift',\n",
    "    region_name=AWS_REGION,\n",
    "    aws_access_key_id=AWS_KEY,\n",
    "    aws_secret_access_key=AWS_SECRET\n",
    ")"
   ]
  },
  {
   "cell_type": "code",
   "execution_count": 13,
   "metadata": {
    "editable": true
   },
   "outputs": [],
   "source": [
    "clusterProps = aws_redshift.describe_clusters(ClusterIdentifier=DWH_CLUSTER_IDENTIFIER)['Clusters'][0]"
   ]
  },
  {
   "cell_type": "code",
   "execution_count": 14,
   "metadata": {
    "editable": true
   },
   "outputs": [
    {
     "data": {
      "application/json": {
       "AllowVersionUpgrade": true,
       "AutomatedSnapshotRetentionPeriod": 1,
       "AvailabilityZone": "us-west-2d",
       "ClusterCreateTime": "2020-09-03T11:37:26.682000",
       "ClusterIdentifier": "dendcluster",
       "ClusterNodes": [
        {
         "NodeRole": "LEADER",
         "PrivateIPAddress": "172.31.60.126",
         "PublicIPAddress": "44.235.76.44"
        },
        {
         "NodeRole": "COMPUTE-0",
         "PrivateIPAddress": "172.31.60.224",
         "PublicIPAddress": "44.235.98.167"
        },
        {
         "NodeRole": "COMPUTE-1",
         "PrivateIPAddress": "172.31.63.72",
         "PublicIPAddress": "44.235.148.146"
        },
        {
         "NodeRole": "COMPUTE-2",
         "PrivateIPAddress": "172.31.57.141",
         "PublicIPAddress": "44.235.164.212"
        },
        {
         "NodeRole": "COMPUTE-3",
         "PrivateIPAddress": "172.31.56.62",
         "PublicIPAddress": "52.13.157.79"
        }
       ],
       "ClusterParameterGroups": [
        {
         "ParameterApplyStatus": "in-sync",
         "ParameterGroupName": "default.redshift-1.0"
        }
       ],
       "ClusterPublicKey": "ssh-rsa AAAAB3NzaC1yc2EAAAADAQABAAABAQCDCpMOSZupPR8oiXKK9D1oD9RZE5ayzFPgHiz9gcTw5BFEOJWypCMSE0bcVlSxS7sumSSmYwJJTTAsHN7eImRJRfvz4n8kR0uTLJRzUfFlultlTRUPkl17ZFR2DhNgCcw5jUsSzTE3nBvNBlaSWV7HeJbOn83pbvR0Zf0eRkt0PGxw2eLA6+sXnvd9wOciu7Z0pebdlEh6cLi/6dwcWellc4gdPaCo/o123zfqef8KrF21hjxaXY1aYiwW8ALA5WAMoj2vjXtIDFNkVlOV1b3SFMGs6/00Askdd5PA1FgrNKW3Nj6XXvRxjbwe6p5JpHT28q6Iu8Gx97fY/zdiWqMj Amazon-Redshift\n",
       "ClusterRevisionNumber": "18601",
       "ClusterSecurityGroups": [],
       "ClusterStatus": "available",
       "ClusterSubnetGroupName": "default",
       "ClusterVersion": "1.0",
       "DBName": "dwh",
       "ElasticResizeNumberOfNodeOptions": "[2,8]",
       "Encrypted": false,
       "Endpoint": {
        "Address": "dendcluster.cwlrei9kynlz.us-west-2.redshift.amazonaws.com",
        "Port": 5439
       },
       "EnhancedVpcRouting": false,
       "IamRoles": [
        {
         "ApplyStatus": "in-sync",
         "IamRoleArn": "arn:aws:iam::498285492063:role/aws_iam_redshift"
        }
       ],
       "MaintenanceTrackName": "current",
       "MasterUsername": "de_nd_user",
       "NodeType": "dc2.large",
       "NumberOfNodes": 4,
       "PendingModifiedValues": {},
       "PreferredMaintenanceWindow": "fri:08:30-fri:09:00",
       "PubliclyAccessible": true,
       "Tags": [],
       "VpcId": "vpc-9dbefae5",
       "VpcSecurityGroups": [
        {
         "Status": "active",
         "VpcSecurityGroupId": "sg-741d325c"
        }
       ]
      },
      "text/plain": [
       "<IPython.core.display.JSON object>"
      ]
     },
     "execution_count": 14,
     "metadata": {
      "application/json": {
       "expanded": true
      }
     },
     "output_type": "execute_result"
    }
   ],
   "source": [
    "JSON(clusterProps, expanded=True)"
   ]
  },
  {
   "cell_type": "code",
   "execution_count": 15,
   "metadata": {
    "editable": true
   },
   "outputs": [
    {
     "data": {
      "text/plain": [
       "{'Cluster': {'ClusterIdentifier': 'dendcluster',\n",
       "  'NodeType': 'dc2.large',\n",
       "  'ClusterStatus': 'deleting',\n",
       "  'MasterUsername': 'de_nd_user',\n",
       "  'DBName': 'dwh',\n",
       "  'Endpoint': {'Address': 'dendcluster.cwlrei9kynlz.us-west-2.redshift.amazonaws.com',\n",
       "   'Port': 5439},\n",
       "  'ClusterCreateTime': datetime.datetime(2020, 9, 3, 11, 37, 26, 682000, tzinfo=tzlocal()),\n",
       "  'AutomatedSnapshotRetentionPeriod': 1,\n",
       "  'ClusterSecurityGroups': [],\n",
       "  'VpcSecurityGroups': [{'VpcSecurityGroupId': 'sg-741d325c',\n",
       "    'Status': 'active'}],\n",
       "  'ClusterParameterGroups': [{'ParameterGroupName': 'default.redshift-1.0',\n",
       "    'ParameterApplyStatus': 'in-sync'}],\n",
       "  'ClusterSubnetGroupName': 'default',\n",
       "  'VpcId': 'vpc-9dbefae5',\n",
       "  'AvailabilityZone': 'us-west-2d',\n",
       "  'PreferredMaintenanceWindow': 'fri:08:30-fri:09:00',\n",
       "  'PendingModifiedValues': {},\n",
       "  'ClusterVersion': '1.0',\n",
       "  'AllowVersionUpgrade': True,\n",
       "  'NumberOfNodes': 4,\n",
       "  'PubliclyAccessible': True,\n",
       "  'Encrypted': False,\n",
       "  'Tags': [],\n",
       "  'EnhancedVpcRouting': False,\n",
       "  'IamRoles': [{'IamRoleArn': 'arn:aws:iam::498285492063:role/aws_iam_redshift',\n",
       "    'ApplyStatus': 'in-sync'}],\n",
       "  'MaintenanceTrackName': 'current'},\n",
       " 'ResponseMetadata': {'RequestId': '3c753d75-38c2-42bf-997b-e95547c5115a',\n",
       "  'HTTPStatusCode': 200,\n",
       "  'HTTPHeaders': {'x-amzn-requestid': '3c753d75-38c2-42bf-997b-e95547c5115a',\n",
       "   'content-type': 'text/xml',\n",
       "   'content-length': '2437',\n",
       "   'vary': 'accept-encoding',\n",
       "   'date': 'Thu, 03 Sep 2020 13:40:13 GMT'},\n",
       "  'RetryAttempts': 0}}"
      ]
     },
     "execution_count": 15,
     "metadata": {},
     "output_type": "execute_result"
    }
   ],
   "source": [
    "aws_redshift.delete_cluster( ClusterIdentifier=DWH_CLUSTER_IDENTIFIER,  SkipFinalClusterSnapshot=True)"
   ]
  },
  {
   "cell_type": "markdown",
   "metadata": {
    "editable": true
   },
   "source": [
    "# Remove EC2 VPC"
   ]
  },
  {
   "cell_type": "code",
   "execution_count": 16,
   "metadata": {
    "editable": true
   },
   "outputs": [],
   "source": [
    "DWH_ENDPOINT = clusterProps['Endpoint']['Address']\n",
    "DWH_ROLE_ARN = clusterProps['IamRoles'][0]['IamRoleArn']"
   ]
  },
  {
   "cell_type": "code",
   "execution_count": 17,
   "metadata": {
    "editable": true
   },
   "outputs": [
    {
     "name": "stdout",
     "output_type": "stream",
     "text": [
      "Endpoint: dendcluster.cwlrei9kynlz.us-west-2.redshift.amazonaws.com\n"
     ]
    }
   ],
   "source": [
    "print(f\"Endpoint: {DWH_ENDPOINT}\")"
   ]
  },
  {
   "cell_type": "code",
   "execution_count": 18,
   "metadata": {
    "editable": true
   },
   "outputs": [
    {
     "name": "stdout",
     "output_type": "stream",
     "text": [
      "Role ARN: arn:aws:iam::498285492063:role/aws_iam_redshift\n"
     ]
    }
   ],
   "source": [
    "print(f\"Role ARN: {DWH_ROLE_ARN}\")"
   ]
  },
  {
   "cell_type": "code",
   "execution_count": 19,
   "metadata": {
    "editable": true
   },
   "outputs": [],
   "source": [
    "aws_ec2 = boto3.resource(\n",
    "    'ec2',\n",
    "    region_name=AWS_REGION,\n",
    "    aws_access_key_id=AWS_KEY,\n",
    "    aws_secret_access_key=AWS_SECRET\n",
    ")"
   ]
  },
  {
   "cell_type": "code",
   "execution_count": 20,
   "metadata": {
    "editable": true
   },
   "outputs": [
    {
     "name": "stdout",
     "output_type": "stream",
     "text": [
      "ec2.SecurityGroup(id='sg-741d325c')\n"
     ]
    }
   ],
   "source": [
    "try:\n",
    "    vpc = aws_ec2.Vpc(id=clusterProps['VpcId'])\n",
    "    \n",
    "    defaultSg = list(vpc.security_groups.all())[0]\n",
    "    print(defaultSg)\n",
    "    \n",
    "    defaultSg.revoke_ingress(\n",
    "        GroupName=defaultSg.group_name,\n",
    "        CidrIp='0.0.0.0/0',\n",
    "        IpProtocol='TCP',\n",
    "        FromPort=int(DWH_PORT),\n",
    "        ToPort=int(DWH_PORT)\n",
    "    )\n",
    "    \n",
    "except Exception as err:\n",
    "    print(err)"
   ]
  },
  {
   "cell_type": "code",
   "execution_count": null,
   "metadata": {
    "editable": true
   },
   "outputs": [],
   "source": []
  }
 ],
 "metadata": {
  "kernelspec": {
   "display_name": "Python 3",
   "language": "python",
   "name": "python3"
  },
  "language_info": {
   "codemirror_mode": {
    "name": "ipython",
    "version": 3
   },
   "file_extension": ".py",
   "mimetype": "text/x-python",
   "name": "python",
   "nbconvert_exporter": "python",
   "pygments_lexer": "ipython3",
   "version": "3.6.3"
  }
 },
 "nbformat": 4,
 "nbformat_minor": 4
}
