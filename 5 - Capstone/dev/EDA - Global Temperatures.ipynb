{
 "cells": [
  {
   "cell_type": "markdown",
   "metadata": {},
   "source": [
    "# Dataset\n",
    "\n",
    "In this notebook we will explore the dataset [Climate Change: Earth Surface Temperature Data](https://www.kaggle.com/berkeleyearth/climate-change-earth-surface-temperature-data/) from [Kaggle](https://www.kaggle.com). It records the average temperature per Country and City or State since the 1750.\n",
    "\n",
    "There are multiple CSV files that provide different views. We will be using the file \"GlobalLandTemperaturesByState.csv\". The original file contains **645675** records, but after selecting only the US states, we reduce the dataset to **149745**.\n",
    "\n",
    "\n",
    "| Field                         | Type    | Description                                    |\n",
    "|-------------------------------|---------|------------------------------------------------|\n",
    "| dt                            | Date    | Date of measurement, in YYYY-MM-DD format      |\n",
    "| AverageTemperature            | Float   | The measured avarage temperature               |\n",
    "| AverageTemperatureUncertainty | Float   | The statistical uncertainty of the measurement |\n",
    "| State                         | String  | US State                                       |\n",
    "| part_year                     | Integer | Parquet partition key                          |\n",
    "| part_month                    | Integer | Parquet partition key                          |\n",
    "\n",
    "Please note that, as we highlighted in `README.md` we have already performed an initial preprocessing, which means we have introduced new helper/utility fields that are not available in the original dataset; and we have dropped at least one field (i.e. `Country`).\n"
   ]
  },
  {
   "cell_type": "markdown",
   "metadata": {},
   "source": [
    "# Imports "
   ]
  },
  {
   "cell_type": "code",
   "execution_count": 1,
   "metadata": {},
   "outputs": [],
   "source": [
    "import sys\n",
    "sys.path.append(\"../config\")\n",
    "\n",
    "import config"
   ]
  },
  {
   "cell_type": "code",
   "execution_count": 2,
   "metadata": {},
   "outputs": [],
   "source": [
    "import pyspark.sql.functions as fn"
   ]
  },
  {
   "cell_type": "markdown",
   "metadata": {},
   "source": [
    "# Load data "
   ]
  },
  {
   "cell_type": "code",
   "execution_count": 3,
   "metadata": {},
   "outputs": [],
   "source": [
    "df_globaltemp = spark.read.parquet(f\"{config.ARTIFACTS}/sample_global_temperatures/\")"
   ]
  },
  {
   "cell_type": "code",
   "execution_count": 4,
   "metadata": {},
   "outputs": [],
   "source": [
    "df = df_globaltemp"
   ]
  },
  {
   "cell_type": "markdown",
   "metadata": {},
   "source": [
    "# Summary"
   ]
  },
  {
   "cell_type": "code",
   "execution_count": 5,
   "metadata": {},
   "outputs": [
    {
     "data": {
      "text/html": [
       "<div>\n",
       "<style scoped>\n",
       "    .dataframe tbody tr th:only-of-type {\n",
       "        vertical-align: middle;\n",
       "    }\n",
       "\n",
       "    .dataframe tbody tr th {\n",
       "        vertical-align: top;\n",
       "    }\n",
       "\n",
       "    .dataframe thead th {\n",
       "        text-align: right;\n",
       "    }\n",
       "</style>\n",
       "<table border=\"1\" class=\"dataframe\">\n",
       "  <thead>\n",
       "    <tr style=\"text-align: right;\">\n",
       "      <th></th>\n",
       "      <th>0</th>\n",
       "      <th>1</th>\n",
       "      <th>2</th>\n",
       "      <th>3</th>\n",
       "      <th>4</th>\n",
       "    </tr>\n",
       "  </thead>\n",
       "  <tbody>\n",
       "    <tr>\n",
       "      <th>summary</th>\n",
       "      <td>count</td>\n",
       "      <td>mean</td>\n",
       "      <td>stddev</td>\n",
       "      <td>min</td>\n",
       "      <td>max</td>\n",
       "    </tr>\n",
       "    <tr>\n",
       "      <th>AverageTemperature</th>\n",
       "      <td>141930</td>\n",
       "      <td>10.701555371823831</td>\n",
       "      <td>10.225132186418435</td>\n",
       "      <td>-28.788</td>\n",
       "      <td>32.905</td>\n",
       "    </tr>\n",
       "    <tr>\n",
       "      <th>AverageTemperatureUncertainty</th>\n",
       "      <td>141930</td>\n",
       "      <td>1.269450264340304</td>\n",
       "      <td>1.406615631149933</td>\n",
       "      <td>0.036</td>\n",
       "      <td>10.354</td>\n",
       "    </tr>\n",
       "    <tr>\n",
       "      <th>State</th>\n",
       "      <td>149745</td>\n",
       "      <td>None</td>\n",
       "      <td>None</td>\n",
       "      <td>Alabama</td>\n",
       "      <td>Wyoming</td>\n",
       "    </tr>\n",
       "    <tr>\n",
       "      <th>part_year</th>\n",
       "      <td>149745</td>\n",
       "      <td>1888.1068015626565</td>\n",
       "      <td>74.68817799577329</td>\n",
       "      <td>1743</td>\n",
       "      <td>2013</td>\n",
       "    </tr>\n",
       "    <tr>\n",
       "      <th>part_month</th>\n",
       "      <td>149745</td>\n",
       "      <td>6.49834719022338</td>\n",
       "      <td>3.451493899095775</td>\n",
       "      <td>1</td>\n",
       "      <td>12</td>\n",
       "    </tr>\n",
       "  </tbody>\n",
       "</table>\n",
       "</div>"
      ],
      "text/plain": [
       "                                    0                   1                   2  \\\n",
       "summary                         count                mean              stddev   \n",
       "AverageTemperature             141930  10.701555371823831  10.225132186418435   \n",
       "AverageTemperatureUncertainty  141930   1.269450264340304   1.406615631149933   \n",
       "State                          149745                None                None   \n",
       "part_year                      149745  1888.1068015626565   74.68817799577329   \n",
       "part_month                     149745    6.49834719022338   3.451493899095775   \n",
       "\n",
       "                                     3        4  \n",
       "summary                            min      max  \n",
       "AverageTemperature             -28.788   32.905  \n",
       "AverageTemperatureUncertainty    0.036   10.354  \n",
       "State                          Alabama  Wyoming  \n",
       "part_year                         1743     2013  \n",
       "part_month                           1       12  "
      ]
     },
     "execution_count": 5,
     "metadata": {},
     "output_type": "execute_result"
    }
   ],
   "source": [
    "df.describe().toPandas().transpose()\n",
    "# df.summary().toPandas().transpose()"
   ]
  },
  {
   "cell_type": "markdown",
   "metadata": {},
   "source": [
    "# SQL "
   ]
  },
  {
   "cell_type": "code",
   "execution_count": 6,
   "metadata": {},
   "outputs": [],
   "source": [
    "df.createOrReplaceTempView(\"globaltemp\")"
   ]
  },
  {
   "cell_type": "code",
   "execution_count": 13,
   "metadata": {},
   "outputs": [],
   "source": [
    "q = spark.sql(\"\"\"\n",
    "    SELECT\n",
    "        State,\n",
    "        COUNT(*) AS count\n",
    "    FROM\n",
    "        globaltemp\n",
    "    GROUP BY\n",
    "        State\n",
    "    ORDER BY\n",
    "        State ASC\n",
    "\"\"\")"
   ]
  },
  {
   "cell_type": "code",
   "execution_count": 14,
   "metadata": {},
   "outputs": [
    {
     "name": "stdout",
     "output_type": "stream",
     "text": [
      "+--------------------+-----+\n",
      "|               State|count|\n",
      "+--------------------+-----+\n",
      "|             Alabama| 3239|\n",
      "|              Alaska| 2229|\n",
      "|             Arizona| 2145|\n",
      "|            Arkansas| 3067|\n",
      "|          California| 1977|\n",
      "|            Colorado| 2325|\n",
      "|         Connecticut| 3239|\n",
      "|            Delaware| 3239|\n",
      "|District Of Columbia| 3239|\n",
      "|             Florida| 3239|\n",
      "|     Georgia (State)| 3239|\n",
      "|              Hawaii| 1569|\n",
      "|               Idaho| 2303|\n",
      "|            Illinois| 3239|\n",
      "|             Indiana| 3239|\n",
      "|                Iowa| 3239|\n",
      "|              Kansas| 2941|\n",
      "|            Kentucky| 3239|\n",
      "|           Louisiana| 3067|\n",
      "|               Maine| 3239|\n",
      "|            Maryland| 3239|\n",
      "|       Massachusetts| 3239|\n",
      "|            Michigan| 3239|\n",
      "|           Minnesota| 3239|\n",
      "|         Mississippi| 3067|\n",
      "|            Missouri| 3239|\n",
      "|             Montana| 2941|\n",
      "|            Nebraska| 2941|\n",
      "|              Nevada| 2224|\n",
      "|       New Hampshire| 3239|\n",
      "|          New Jersey| 3239|\n",
      "|          New Mexico| 2325|\n",
      "|            New York| 3239|\n",
      "|      North Carolina| 3239|\n",
      "|        North Dakota| 2941|\n",
      "|                Ohio| 3239|\n",
      "|            Oklahoma| 2865|\n",
      "|              Oregon| 2229|\n",
      "|        Pennsylvania| 3239|\n",
      "|        Rhode Island| 3239|\n",
      "|      South Carolina| 3239|\n",
      "|        South Dakota| 2941|\n",
      "|           Tennessee| 3239|\n",
      "|               Texas| 2325|\n",
      "|                Utah| 2298|\n",
      "|             Vermont| 3239|\n",
      "|            Virginia| 3239|\n",
      "|          Washington| 2229|\n",
      "|       West Virginia| 3239|\n",
      "|           Wisconsin| 3239|\n",
      "|             Wyoming| 2865|\n",
      "+--------------------+-----+\n",
      "\n"
     ]
    }
   ],
   "source": [
    "q.show(n=51)"
   ]
  },
  {
   "cell_type": "code",
   "execution_count": 17,
   "metadata": {},
   "outputs": [],
   "source": [
    "q = spark.sql(\"\"\"\n",
    "    SELECT\n",
    "        State,\n",
    "        MIN(AverageTemperature) AS MinAvgTemperature,\n",
    "        MAX(AverageTemperature) AS MaxAvgTemperature,\n",
    "        AVG(AverageTemperature) AS AvgAvgTemperature\n",
    "    FROM\n",
    "        globaltemp\n",
    "    GROUP BY\n",
    "        State\n",
    "    ORDER BY\n",
    "        State\n",
    "\"\"\")"
   ]
  },
  {
   "cell_type": "code",
   "execution_count": 18,
   "metadata": {},
   "outputs": [
    {
     "name": "stdout",
     "output_type": "stream",
     "text": [
      "+--------------------+-----------------+-----------------+------------------+\n",
      "|               State|MinAvgTemperature|MaxAvgTemperature| AvgAvgTemperature|\n",
      "+--------------------+-----------------+-----------------+------------------+\n",
      "|             Alabama|            0.137|           32.289| 17.06613786076651|\n",
      "|              Alaska|          -28.788|           14.112| -4.89073757418071|\n",
      "|             Arizona|           -0.829|           29.006|15.381526118352898|\n",
      "|            Arkansas|           -3.176|           29.833| 15.57396252189778|\n",
      "|          California|             0.53|           26.279|14.327677270349493|\n",
      "|            Colorado|          -10.962|           22.484| 6.931333906096791|\n",
      "|         Connecticut|           -8.917|            28.21| 9.020079509066683|\n",
      "|            Delaware|           -5.586|           30.454|11.895237571683838|\n",
      "|District Of Columbia|           -6.386|           30.833| 11.91847451144824|\n",
      "|             Florida|           10.077|           32.905|21.501561591897318|\n",
      "|     Georgia (State)|             1.87|           32.394|17.527082080335028|\n",
      "|              Hawaii|           18.829|           25.469| 22.43928270759899|\n",
      "|               Idaho|          -15.164|           22.079| 5.334255047320757|\n",
      "|            Illinois|           -11.54|           29.966|10.866111744905204|\n",
      "|             Indiana|          -11.463|           29.788|10.874955761239068|\n",
      "|                Iowa|          -15.753|           28.914| 8.647807694548003|\n",
      "|              Kansas|           -9.797|           30.278| 12.16564787236717|\n",
      "|            Kentucky|           -7.689|           30.622|12.950794479521555|\n",
      "|           Louisiana|            2.829|           30.663|19.128862402474304|\n",
      "|               Maine|          -15.115|            24.97|  4.34994196520868|\n",
      "+--------------------+-----------------+-----------------+------------------+\n",
      "only showing top 20 rows\n",
      "\n"
     ]
    }
   ],
   "source": [
    "q.show()"
   ]
  },
  {
   "cell_type": "code",
   "execution_count": null,
   "metadata": {},
   "outputs": [],
   "source": []
  }
 ],
 "metadata": {
  "kernelspec": {
   "display_name": "Python 3",
   "language": "python",
   "name": "python3"
  },
  "language_info": {
   "codemirror_mode": {
    "name": "ipython",
    "version": 3
   },
   "file_extension": ".py",
   "mimetype": "text/x-python",
   "name": "python",
   "nbconvert_exporter": "python",
   "pygments_lexer": "ipython3",
   "version": "3.6.9"
  }
 },
 "nbformat": 4,
 "nbformat_minor": 4
}
