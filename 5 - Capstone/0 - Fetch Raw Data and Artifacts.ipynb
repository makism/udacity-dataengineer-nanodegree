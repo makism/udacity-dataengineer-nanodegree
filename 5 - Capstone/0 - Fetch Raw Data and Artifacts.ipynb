{
 "cells": [
  {
   "cell_type": "markdown",
   "metadata": {},
   "source": [
    "**Udacity Data Engineering Capstone Project**<br/>\n",
    "Avraam Marimpis <avraam.marimpis@gmail.com>, October 2020\n",
    "\n",
    "- - -\n"
   ]
  },
  {
   "cell_type": "markdown",
   "metadata": {},
   "source": [
    "# Fetch raw data (sampled) "
   ]
  },
  {
   "cell_type": "code",
   "execution_count": null,
   "metadata": {},
   "outputs": [],
   "source": [
    "!rm -rf artifacts/"
   ]
  },
  {
   "cell_type": "code",
   "execution_count": null,
   "metadata": {},
   "outputs": [],
   "source": [
    "!wget https://www.dropbox.com/sh/scfe4z3ynnd0hfe/AAC2Zuvuqw2BriFMGIABJfSUa?dl=0 -O dropbox_raw_data.zip"
   ]
  },
  {
   "cell_type": "code",
   "execution_count": null,
   "metadata": {},
   "outputs": [],
   "source": [
    "!unzip -d raw_data/ dropbox_raw_data.zip"
   ]
  },
  {
   "cell_type": "markdown",
   "metadata": {},
   "source": [
    "# Fetch artifacts "
   ]
  },
  {
   "cell_type": "code",
   "execution_count": null,
   "metadata": {},
   "outputs": [],
   "source": [
    "!rm -rf raw_data/"
   ]
  },
  {
   "cell_type": "code",
   "execution_count": 3,
   "metadata": {},
   "outputs": [
    {
     "name": "stdout",
     "output_type": "stream",
     "text": [
      "--2020-10-14 18:44:52--  https://www.dropbox.com/sh/kqi5q96j81p88ny/AAAucA-f_w0T7E_b89hJNXSea?dl=0\n",
      "Resolving www.dropbox.com (www.dropbox.com)... 162.125.65.1\n",
      "Connecting to www.dropbox.com (www.dropbox.com)|162.125.65.1|:443... connected.\n",
      "HTTP request sent, awaiting response... 301 Moved Permanently\n",
      "Location: /sh/raw/kqi5q96j81p88ny/AAAucA-f_w0T7E_b89hJNXSea [following]\n",
      "--2020-10-14 18:44:52--  https://www.dropbox.com/sh/raw/kqi5q96j81p88ny/AAAucA-f_w0T7E_b89hJNXSea\n",
      "Reusing existing connection to www.dropbox.com:443.\n",
      "HTTP request sent, awaiting response... 302 Found\n",
      "Location: https://uca30264404f724bd7f521bb1446.dl.dropboxusercontent.com/zip_download_get/Akplm_W4VyppJzaM8iD1GDDjeah7B2TlNfsizixFvEWGwq84gNL3ZyWyUxtsLNxxrotWIxTMLPGVoUcTjBBPrbt4Xub9kjg_Hxp6GCqRMRUUuQ [following]\n",
      "--2020-10-14 18:44:52--  https://uca30264404f724bd7f521bb1446.dl.dropboxusercontent.com/zip_download_get/Akplm_W4VyppJzaM8iD1GDDjeah7B2TlNfsizixFvEWGwq84gNL3ZyWyUxtsLNxxrotWIxTMLPGVoUcTjBBPrbt4Xub9kjg_Hxp6GCqRMRUUuQ\n",
      "Resolving uca30264404f724bd7f521bb1446.dl.dropboxusercontent.com (uca30264404f724bd7f521bb1446.dl.dropboxusercontent.com)... 162.125.65.15\n",
      "Connecting to uca30264404f724bd7f521bb1446.dl.dropboxusercontent.com (uca30264404f724bd7f521bb1446.dl.dropboxusercontent.com)|162.125.65.15|:443... connected.\n",
      "HTTP request sent, awaiting response... 200 OK\n",
      "Length: 131614381 (126M) [application/zip]\n",
      "Saving to: ‘artifacts.zip’\n",
      "\n",
      "artifacts.zip       100%[===================>] 125.52M  2.43MB/s    in 33s     \n",
      "\n",
      "2020-10-14 18:45:27 (3.82 MB/s) - ‘artifacts.zip’ saved [131614381/131614381]\n",
      "\n"
     ]
    }
   ],
   "source": [
    "!wget https://www.dropbox.com/sh/kqi5q96j81p88ny/AAAucA-f_w0T7E_b89hJNXSea?dl=0 -O dropbox_artifacts.zip"
   ]
  },
  {
   "cell_type": "code",
   "execution_count": null,
   "metadata": {},
   "outputs": [],
   "source": [
    "!unzip -d artifacts/ dropbox_artifacts.zip"
   ]
  }
 ],
 "metadata": {
  "kernelspec": {
   "display_name": "Python 3",
   "language": "python",
   "name": "python3"
  },
  "language_info": {
   "codemirror_mode": {
    "name": "ipython",
    "version": 3
   },
   "file_extension": ".py",
   "mimetype": "text/x-python",
   "name": "python",
   "nbconvert_exporter": "python",
   "pygments_lexer": "ipython3",
   "version": "3.6.9"
  }
 },
 "nbformat": 4,
 "nbformat_minor": 4
}
