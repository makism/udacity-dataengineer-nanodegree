{
 "cells": [
  {
   "cell_type": "markdown",
   "metadata": {},
   "source": [
    "**Udacity Data Engineering Capstone Project**<br/>\n",
    "Avraam Marimpis <avraam.marimpis@gmail.com>, October 2020\n",
    "\n",
    "- - -\n"
   ]
  },
  {
   "cell_type": "markdown",
   "metadata": {},
   "source": [
    "__Load and Sample.ipynb__\n",
    "\n",
    "In this notebook, we wil load the raw data from CSV into Spark with the given predefined Schemas.\n",
    "\n",
    "We will make smaller samples of the datasets and store them into Parquet files (with proper partitioning if able) either locally, for development purposes, or in S3 buckets."
   ]
  },
  {
   "cell_type": "markdown",
   "metadata": {},
   "source": [
    "# Imports"
   ]
  },
  {
   "cell_type": "code",
   "execution_count": 1,
   "metadata": {},
   "outputs": [],
   "source": [
    "import sys\n",
    "sys.path.append('config/')\n",
    "\n",
    "import config\n",
    "import data as cnf_data\n",
    "\n",
    "sys.path.append(\"common/\")\n",
    "import aws_dwh"
   ]
  },
  {
   "cell_type": "code",
   "execution_count": 2,
   "metadata": {},
   "outputs": [],
   "source": [
    "import pyspark.sql.types as t\n",
    "import pyspark.sql.functions as fn"
   ]
  },
  {
   "cell_type": "code",
   "execution_count": 3,
   "metadata": {},
   "outputs": [],
   "source": [
    "import sqlite3"
   ]
  },
  {
   "cell_type": "code",
   "execution_count": 4,
   "metadata": {},
   "outputs": [],
   "source": [
    "import pandas as pd"
   ]
  },
  {
   "cell_type": "code",
   "execution_count": 5,
   "metadata": {},
   "outputs": [],
   "source": [
    "import json"
   ]
  },
  {
   "cell_type": "markdown",
   "metadata": {},
   "source": [
    "# Clean up"
   ]
  },
  {
   "cell_type": "code",
   "execution_count": 6,
   "metadata": {},
   "outputs": [],
   "source": [
    "!rm -rf {config.ARTIFACTS}/*"
   ]
  },
  {
   "cell_type": "markdown",
   "metadata": {},
   "source": [
    "# Add AWS/S3 JARs to Spark"
   ]
  },
  {
   "cell_type": "code",
   "execution_count": 7,
   "metadata": {},
   "outputs": [],
   "source": [
    "dwh = aws_dwh.parse_dwh()"
   ]
  },
  {
   "cell_type": "code",
   "execution_count": 8,
   "metadata": {},
   "outputs": [],
   "source": [
    "spark.stop()\n",
    "\n",
    "spark = SparkSession.builder \\\n",
    "            .appName(\"my_app\") \\\n",
    "            .config('spark.sql.codegen.wholeStage', False) \\\n",
    "            .config(\"spark.driver.extraClassPath\", \"/home/vagrant/opt/libs/aws-java-sdk-1.7.4.jar\") \\\n",
    "            .config(\"spark.jars\", \"/home/vagrant/opt/libs/hadoop-aws-2.7.2.jar\") \\\n",
    "            .getOrCreate()\n",
    "\n",
    "spark._jsc.hadoopConfiguration().set(\"fs.s3a.access.key\", dwh['aws']['access_key_id'])\n",
    "spark._jsc.hadoopConfiguration().set(\"fs.s3a.secret.key\", dwh['aws']['secret_access_key'])\n",
    "\n",
    "spark._jsc.hadoopConfiguration().set(\"fs.s3a.impl\",\"org.apache.hadoop.fs.s3a.S3AFileSystem\")\n",
    "# spark._jsc.hadoopConfiguration().set(\"fs.s3a.impl\",\"org.apache.hadoop.fs.s3native.NativeS3FileSystem\")\n",
    "spark._jsc.hadoopConfiguration().set(\"com.amazonaws.services.s3.enableV4\", \"true\")\n",
    "spark._jsc.hadoopConfiguration().set(\"fs.s3a.aws.credentials.provider\",\"org.apache.hadoop.fs.s3a.BasicAWSCredentialsProvider\")\n",
    "spark._jsc.hadoopConfiguration().set(\"fs.s3a.endpoint\", f\"s3.{dwh['aws']['region']}.amazonaws.com\")\n",
    "\n",
    "sc = spark.sparkContext\n",
    "sc.setSystemProperty(\"com.amazonaws.services.s3.enableV4\", \"true\")"
   ]
  },
  {
   "cell_type": "markdown",
   "metadata": {},
   "source": [
    "# Load and sample dataset \"Wildfires\" "
   ]
  },
  {
   "cell_type": "code",
   "execution_count": 9,
   "metadata": {},
   "outputs": [],
   "source": [
    "sqlite_fname = f\"{config.RAW_DATA}/FPA_FOD_20170508.sqlite\""
   ]
  },
  {
   "cell_type": "code",
   "execution_count": 10,
   "metadata": {},
   "outputs": [],
   "source": [
    "conn = sqlite3.connect(sqlite_fname)"
   ]
  },
  {
   "cell_type": "code",
   "execution_count": 11,
   "metadata": {},
   "outputs": [],
   "source": [
    "cursor = conn.cursor()"
   ]
  },
  {
   "cell_type": "code",
   "execution_count": 12,
   "metadata": {},
   "outputs": [],
   "source": [
    "q = (\"\"\"\n",
    "    SELECT\n",
    "        OBJECTID,\n",
    "        FOD_ID,\n",
    "        FPA_ID,\n",
    "        FIRE_CODE,\n",
    "        FIRE_NAME,\n",
    "        ICS_209_INCIDENT_NUMBER,\n",
    "        ICS_209_NAME,\n",
    "        MTBS_ID,\n",
    "        MTBS_FIRE_NAME,\n",
    "        COMPLEX_NAME,\n",
    "        FIRE_YEAR,\n",
    "        DISCOVERY_DATE,\n",
    "        DISCOVERY_DOY,\n",
    "        DISCOVERY_TIME,\n",
    "        STAT_CAUSE_CODE,\n",
    "        STAT_CAUSE_DESCR,\n",
    "        CONT_DATE,\n",
    "        CONT_DOY,\n",
    "        CONT_TIME,\n",
    "        FIRE_SIZE,\n",
    "        FIRE_SIZE_CLASS,\n",
    "        STATE,\n",
    "        COUNTY,\n",
    "        FIPS_CODE,\n",
    "        FIPS_NAME\n",
    "    FROM\n",
    "        fires;\n",
    "\"\"\")"
   ]
  },
  {
   "cell_type": "code",
   "execution_count": 13,
   "metadata": {},
   "outputs": [],
   "source": [
    "df = pd.read_sql(q, conn)"
   ]
  },
  {
   "cell_type": "code",
   "execution_count": 14,
   "metadata": {},
   "outputs": [],
   "source": [
    "cursor.close()"
   ]
  },
  {
   "cell_type": "code",
   "execution_count": 15,
   "metadata": {},
   "outputs": [],
   "source": [
    "epoch = pd.to_datetime(0, unit='s').to_julian_date()"
   ]
  },
  {
   "cell_type": "code",
   "execution_count": 16,
   "metadata": {},
   "outputs": [],
   "source": [
    "DISCOVERY_DATE_converted = pd.to_datetime(df['DISCOVERY_DATE'] - epoch, unit='D')"
   ]
  },
  {
   "cell_type": "code",
   "execution_count": 17,
   "metadata": {},
   "outputs": [],
   "source": [
    "CONT_DATE_converted = pd.to_datetime(df['CONT_DATE'] - epoch, unit='D')"
   ]
  },
  {
   "cell_type": "code",
   "execution_count": 18,
   "metadata": {},
   "outputs": [],
   "source": [
    "df['DISCOVERY_DATE_converted'] = DISCOVERY_DATE_converted"
   ]
  },
  {
   "cell_type": "code",
   "execution_count": 19,
   "metadata": {},
   "outputs": [],
   "source": [
    "df['CONT_DATE_converted'] = CONT_DATE_converted"
   ]
  },
  {
   "cell_type": "code",
   "execution_count": 20,
   "metadata": {},
   "outputs": [
    {
     "data": {
      "text/plain": [
       "1880465"
      ]
     },
     "execution_count": 20,
     "metadata": {},
     "output_type": "execute_result"
    }
   ],
   "source": [
    "len(df)"
   ]
  },
  {
   "cell_type": "code",
   "execution_count": 21,
   "metadata": {},
   "outputs": [],
   "source": [
    "if cnf_data.DATASET_SAMPLE:\n",
    "    sample_wildfires = df.groupby(\"COUNTY\").sample(frac=cnf_data.DATASET_SAMPLE_FRAC, random_state=1)\n",
    "    df = sample_wildfires"
   ]
  },
  {
   "cell_type": "code",
   "execution_count": 22,
   "metadata": {},
   "outputs": [
    {
     "data": {
      "text/plain": [
       "60026"
      ]
     },
     "execution_count": 22,
     "metadata": {},
     "output_type": "execute_result"
    }
   ],
   "source": [
    "len(df)"
   ]
  },
  {
   "cell_type": "code",
   "execution_count": 23,
   "metadata": {},
   "outputs": [],
   "source": [
    "if cnf_data.DATASET_STORE == \"local\":\n",
    "    df.to_csv(path_or_buf=f\"{config.ARTIFACTS}/sample_wildfires.csv\", index=False)\n",
    "else:\n",
    "    from io import StringIO\n",
    "    import boto3\n",
    "    \n",
    "    aws_s3 = boto3.resource(\n",
    "        's3',\n",
    "        region_name=dwh['aws']['region'],\n",
    "        aws_access_key_id=dwh['aws']['access_key_id'],\n",
    "        aws_secret_access_key=dwh['aws']['secret_access_key']\n",
    "    )\n",
    "\n",
    "    buffer = StringIO()\n",
    "    df.to_csv(buffer, sep=\",\", index=False)\n",
    "    aws_s3.Object(dwh['s3']['bucket-1']['name'], \"sample_wildfires.csv\").put(Body=buffer.getvalue())"
   ]
  },
  {
   "cell_type": "markdown",
   "metadata": {},
   "source": [
    "# Load and sample dataset \"Air Quality\""
   ]
  },
  {
   "cell_type": "code",
   "execution_count": 24,
   "metadata": {},
   "outputs": [],
   "source": [
    "schema = t.StructType([\n",
    "    t.StructField('state_code', t.IntegerType()),\n",
    "    t.StructField('county_code',t.StringType()),\n",
    "    t.StructField('site_num', t.StringType()),\n",
    "    t.StructField('parameter_code', t.IntegerType()),\n",
    "    t.StructField('poc', t.IntegerType()),\n",
    "    t.StructField('latitude', t.FloatType()),\n",
    "    t.StructField('longitude', t.FloatType()),\n",
    "    t.StructField('datum', t.StringType()),\n",
    "    t.StructField('parameter_name', t.StringType()),\n",
    "    t.StructField('sample_duration', t.StringType()),\n",
    "    t.StructField('pollutant_standard', t.StringType()),\n",
    "    t.StructField('date_local', t.StringType()),\n",
    "    t.StructField('units_of_measure', t.StringType()),\n",
    "    t.StructField('event_type', t.StringType()),\n",
    "    t.StructField('observation_count', t.IntegerType()),\n",
    "    t.StructField('observation_percent', t.StringType()),\n",
    "    t.StructField('arithmetic_mean', t.FloatType()),\n",
    "    t.StructField('first_max_value', t.FloatType()),\n",
    "    t.StructField('first_max_hour', t.IntegerType()),\n",
    "    t.StructField('aqi', t.IntegerType()),\n",
    "    t.StructField('method_code', t.IntegerType()),\n",
    "    t.StructField('method_name', t.StringType()),\n",
    "    t.StructField('local_site_name',t.StringType()),\n",
    "    t.StructField('address', t.StringType()),\n",
    "    t.StructField('state_name', t.StringType()),\n",
    "    t.StructField('county_name', t.StringType()),\n",
    "    t.StructField('city_name', t.StringType()),\n",
    "    t.StructField('cbsa_name', t.StringType()),\n",
    "    t.StructField('date_of_last_change', t.DateType())\n",
    "])"
   ]
  },
  {
   "cell_type": "code",
   "execution_count": 25,
   "metadata": {},
   "outputs": [],
   "source": [
    "df = spark.read.csv(f\"{config.RAW_DATA}/co_daily_*.csv\", header=True, schema=schema)"
   ]
  },
  {
   "cell_type": "code",
   "execution_count": 26,
   "metadata": {},
   "outputs": [
    {
     "data": {
      "text/plain": [
       "1437692"
      ]
     },
     "execution_count": 26,
     "metadata": {},
     "output_type": "execute_result"
    }
   ],
   "source": [
    "df.count()"
   ]
  },
  {
   "cell_type": "code",
   "execution_count": 27,
   "metadata": {},
   "outputs": [],
   "source": [
    "if cnf_data.DATASET_SAMPLE:\n",
    "    sample = df.sample(fraction=cnf_data.DATASET_SAMPLE_FRAC, withReplacement=True)\n",
    "    df = sample"
   ]
  },
  {
   "cell_type": "code",
   "execution_count": 28,
   "metadata": {},
   "outputs": [
    {
     "data": {
      "text/html": [
       "<div>\n",
       "<style scoped>\n",
       "    .dataframe tbody tr th:only-of-type {\n",
       "        vertical-align: middle;\n",
       "    }\n",
       "\n",
       "    .dataframe tbody tr th {\n",
       "        vertical-align: top;\n",
       "    }\n",
       "\n",
       "    .dataframe thead th {\n",
       "        text-align: right;\n",
       "    }\n",
       "</style>\n",
       "<table border=\"1\" class=\"dataframe\">\n",
       "  <thead>\n",
       "    <tr style=\"text-align: right;\">\n",
       "      <th></th>\n",
       "      <th>0</th>\n",
       "      <th>1</th>\n",
       "      <th>2</th>\n",
       "      <th>3</th>\n",
       "      <th>4</th>\n",
       "      <th>5</th>\n",
       "      <th>6</th>\n",
       "      <th>7</th>\n",
       "      <th>8</th>\n",
       "      <th>9</th>\n",
       "    </tr>\n",
       "  </thead>\n",
       "  <tbody>\n",
       "    <tr>\n",
       "      <th>state_code</th>\n",
       "      <td>38</td>\n",
       "      <td>46</td>\n",
       "      <td>38</td>\n",
       "      <td>38</td>\n",
       "      <td>46</td>\n",
       "      <td>38</td>\n",
       "      <td>38</td>\n",
       "      <td>38</td>\n",
       "      <td>5</td>\n",
       "      <td>46</td>\n",
       "    </tr>\n",
       "    <tr>\n",
       "      <th>county_code</th>\n",
       "      <td>015</td>\n",
       "      <td>127</td>\n",
       "      <td>015</td>\n",
       "      <td>015</td>\n",
       "      <td>127</td>\n",
       "      <td>015</td>\n",
       "      <td>015</td>\n",
       "      <td>015</td>\n",
       "      <td>093</td>\n",
       "      <td>127</td>\n",
       "    </tr>\n",
       "    <tr>\n",
       "      <th>site_num</th>\n",
       "      <td>0003</td>\n",
       "      <td>0001</td>\n",
       "      <td>0003</td>\n",
       "      <td>0003</td>\n",
       "      <td>0001</td>\n",
       "      <td>0003</td>\n",
       "      <td>0003</td>\n",
       "      <td>0003</td>\n",
       "      <td>0005</td>\n",
       "      <td>0001</td>\n",
       "    </tr>\n",
       "    <tr>\n",
       "      <th>parameter_code</th>\n",
       "      <td>42101</td>\n",
       "      <td>42101</td>\n",
       "      <td>42101</td>\n",
       "      <td>42101</td>\n",
       "      <td>42101</td>\n",
       "      <td>42101</td>\n",
       "      <td>42101</td>\n",
       "      <td>42101</td>\n",
       "      <td>42101</td>\n",
       "      <td>42101</td>\n",
       "    </tr>\n",
       "    <tr>\n",
       "      <th>poc</th>\n",
       "      <td>1</td>\n",
       "      <td>3</td>\n",
       "      <td>1</td>\n",
       "      <td>1</td>\n",
       "      <td>3</td>\n",
       "      <td>1</td>\n",
       "      <td>1</td>\n",
       "      <td>1</td>\n",
       "      <td>1</td>\n",
       "      <td>3</td>\n",
       "    </tr>\n",
       "    <tr>\n",
       "      <th>latitude</th>\n",
       "      <td>46.8254</td>\n",
       "      <td>42.7515</td>\n",
       "      <td>46.8254</td>\n",
       "      <td>46.8254</td>\n",
       "      <td>42.7515</td>\n",
       "      <td>46.8254</td>\n",
       "      <td>46.8254</td>\n",
       "      <td>46.8254</td>\n",
       "      <td>35.8909</td>\n",
       "      <td>42.7515</td>\n",
       "    </tr>\n",
       "    <tr>\n",
       "      <th>longitude</th>\n",
       "      <td>-100.768</td>\n",
       "      <td>-96.7072</td>\n",
       "      <td>-100.768</td>\n",
       "      <td>-100.768</td>\n",
       "      <td>-96.7072</td>\n",
       "      <td>-100.768</td>\n",
       "      <td>-100.768</td>\n",
       "      <td>-100.768</td>\n",
       "      <td>-89.784</td>\n",
       "      <td>-96.7072</td>\n",
       "    </tr>\n",
       "    <tr>\n",
       "      <th>datum</th>\n",
       "      <td>NAD83</td>\n",
       "      <td>WGS84</td>\n",
       "      <td>NAD83</td>\n",
       "      <td>NAD83</td>\n",
       "      <td>WGS84</td>\n",
       "      <td>NAD83</td>\n",
       "      <td>NAD83</td>\n",
       "      <td>NAD83</td>\n",
       "      <td>WGS84</td>\n",
       "      <td>WGS84</td>\n",
       "    </tr>\n",
       "    <tr>\n",
       "      <th>parameter_name</th>\n",
       "      <td>Carbon monoxide</td>\n",
       "      <td>Carbon monoxide</td>\n",
       "      <td>Carbon monoxide</td>\n",
       "      <td>Carbon monoxide</td>\n",
       "      <td>Carbon monoxide</td>\n",
       "      <td>Carbon monoxide</td>\n",
       "      <td>Carbon monoxide</td>\n",
       "      <td>Carbon monoxide</td>\n",
       "      <td>Carbon monoxide</td>\n",
       "      <td>Carbon monoxide</td>\n",
       "    </tr>\n",
       "    <tr>\n",
       "      <th>sample_duration</th>\n",
       "      <td>1 HOUR</td>\n",
       "      <td>1 HOUR</td>\n",
       "      <td>1 HOUR</td>\n",
       "      <td>8-HR RUN AVG END HOUR</td>\n",
       "      <td>8-HR RUN AVG END HOUR</td>\n",
       "      <td>8-HR RUN AVG END HOUR</td>\n",
       "      <td>8-HR RUN AVG END HOUR</td>\n",
       "      <td>1 HOUR</td>\n",
       "      <td>1 HOUR</td>\n",
       "      <td>8-HR RUN AVG END HOUR</td>\n",
       "    </tr>\n",
       "    <tr>\n",
       "      <th>pollutant_standard</th>\n",
       "      <td>CO 1-hour 1971</td>\n",
       "      <td>CO 1-hour 1971</td>\n",
       "      <td>CO 1-hour 1971</td>\n",
       "      <td>CO 8-hour 1971</td>\n",
       "      <td>CO 8-hour 1971</td>\n",
       "      <td>CO 8-hour 1971</td>\n",
       "      <td>CO 8-hour 1971</td>\n",
       "      <td>CO 1-hour 1971</td>\n",
       "      <td>CO 1-hour 1971</td>\n",
       "      <td>CO 8-hour 1971</td>\n",
       "    </tr>\n",
       "    <tr>\n",
       "      <th>date_local</th>\n",
       "      <td>2017-12-25</td>\n",
       "      <td>2011-03-11</td>\n",
       "      <td>2017-06-23</td>\n",
       "      <td>2017-10-29</td>\n",
       "      <td>2013-06-04</td>\n",
       "      <td>2017-01-13</td>\n",
       "      <td>2017-11-03</td>\n",
       "      <td>2018-11-13</td>\n",
       "      <td>1992-01-12</td>\n",
       "      <td>2012-06-26</td>\n",
       "    </tr>\n",
       "    <tr>\n",
       "      <th>units_of_measure</th>\n",
       "      <td>Parts per million</td>\n",
       "      <td>Parts per million</td>\n",
       "      <td>Parts per million</td>\n",
       "      <td>Parts per million</td>\n",
       "      <td>Parts per million</td>\n",
       "      <td>Parts per million</td>\n",
       "      <td>Parts per million</td>\n",
       "      <td>Parts per million</td>\n",
       "      <td>Parts per million</td>\n",
       "      <td>Parts per million</td>\n",
       "    </tr>\n",
       "    <tr>\n",
       "      <th>event_type</th>\n",
       "      <td>None</td>\n",
       "      <td>None</td>\n",
       "      <td>None</td>\n",
       "      <td>None</td>\n",
       "      <td>None</td>\n",
       "      <td>None</td>\n",
       "      <td>None</td>\n",
       "      <td>None</td>\n",
       "      <td>None</td>\n",
       "      <td>None</td>\n",
       "    </tr>\n",
       "    <tr>\n",
       "      <th>observation_count</th>\n",
       "      <td>23</td>\n",
       "      <td>24</td>\n",
       "      <td>23</td>\n",
       "      <td>24</td>\n",
       "      <td>24</td>\n",
       "      <td>24</td>\n",
       "      <td>24</td>\n",
       "      <td>23</td>\n",
       "      <td>24</td>\n",
       "      <td>24</td>\n",
       "    </tr>\n",
       "    <tr>\n",
       "      <th>observation_percent</th>\n",
       "      <td>96</td>\n",
       "      <td>100</td>\n",
       "      <td>96</td>\n",
       "      <td>100</td>\n",
       "      <td>100</td>\n",
       "      <td>100</td>\n",
       "      <td>100</td>\n",
       "      <td>96</td>\n",
       "      <td>100</td>\n",
       "      <td>100</td>\n",
       "    </tr>\n",
       "    <tr>\n",
       "      <th>arithmetic_mean</th>\n",
       "      <td>0.148565</td>\n",
       "      <td>0.174917</td>\n",
       "      <td>0.126391</td>\n",
       "      <td>0.1125</td>\n",
       "      <td>0.1</td>\n",
       "      <td>0.229167</td>\n",
       "      <td>0.1</td>\n",
       "      <td>0.240609</td>\n",
       "      <td>0.225</td>\n",
       "      <td>0.1</td>\n",
       "    </tr>\n",
       "    <tr>\n",
       "      <th>first_max_value</th>\n",
       "      <td>0.173</td>\n",
       "      <td>0.194</td>\n",
       "      <td>0.153</td>\n",
       "      <td>0.2</td>\n",
       "      <td>0.1</td>\n",
       "      <td>0.4</td>\n",
       "      <td>0.1</td>\n",
       "      <td>0.492</td>\n",
       "      <td>0.4</td>\n",
       "      <td>0.1</td>\n",
       "    </tr>\n",
       "    <tr>\n",
       "      <th>first_max_hour</th>\n",
       "      <td>22</td>\n",
       "      <td>2</td>\n",
       "      <td>23</td>\n",
       "      <td>0</td>\n",
       "      <td>0</td>\n",
       "      <td>0</td>\n",
       "      <td>0</td>\n",
       "      <td>18</td>\n",
       "      <td>0</td>\n",
       "      <td>0</td>\n",
       "    </tr>\n",
       "    <tr>\n",
       "      <th>aqi</th>\n",
       "      <td>NaN</td>\n",
       "      <td>NaN</td>\n",
       "      <td>NaN</td>\n",
       "      <td>2</td>\n",
       "      <td>1</td>\n",
       "      <td>5</td>\n",
       "      <td>1</td>\n",
       "      <td>NaN</td>\n",
       "      <td>NaN</td>\n",
       "      <td>1</td>\n",
       "    </tr>\n",
       "    <tr>\n",
       "      <th>method_code</th>\n",
       "      <td>554</td>\n",
       "      <td>593</td>\n",
       "      <td>554</td>\n",
       "      <td>NaN</td>\n",
       "      <td>NaN</td>\n",
       "      <td>NaN</td>\n",
       "      <td>NaN</td>\n",
       "      <td>554</td>\n",
       "      <td>11</td>\n",
       "      <td>NaN</td>\n",
       "    </tr>\n",
       "    <tr>\n",
       "      <th>method_name</th>\n",
       "      <td>INSTRUMENTAL - Gas Filter Correlation Thermo E...</td>\n",
       "      <td>INSTRUMENTAL - Gas Filter Correlation Teledyne...</td>\n",
       "      <td>INSTRUMENTAL - Gas Filter Correlation Thermo E...</td>\n",
       "      <td>-</td>\n",
       "      <td>-</td>\n",
       "      <td>-</td>\n",
       "      <td>-</td>\n",
       "      <td>INSTRUMENTAL - Gas Filter Correlation Thermo E...</td>\n",
       "      <td>INSTRUMENTAL - NONDISPERSIVE INFRARED</td>\n",
       "      <td>-</td>\n",
       "    </tr>\n",
       "    <tr>\n",
       "      <th>local_site_name</th>\n",
       "      <td>BISMARCK RESIDENTIAL</td>\n",
       "      <td>Union County #1 Jensen</td>\n",
       "      <td>BISMARCK RESIDENTIAL</td>\n",
       "      <td>BISMARCK RESIDENTIAL</td>\n",
       "      <td>Union County #1 Jensen</td>\n",
       "      <td>BISMARCK RESIDENTIAL</td>\n",
       "      <td>BISMARCK RESIDENTIAL</td>\n",
       "      <td>BISMARCK RESIDENTIAL</td>\n",
       "      <td>None</td>\n",
       "      <td>Union County #1 Jensen</td>\n",
       "    </tr>\n",
       "    <tr>\n",
       "      <th>address</th>\n",
       "      <td>1810 N 16TH STREET</td>\n",
       "      <td>31986 475th Ave</td>\n",
       "      <td>1810 N 16TH STREET</td>\n",
       "      <td>1810 N 16TH STREET</td>\n",
       "      <td>31986 475th Ave</td>\n",
       "      <td>1810 N 16TH STREET</td>\n",
       "      <td>1810 N 16TH STREET</td>\n",
       "      <td>1810 N 16TH STREET</td>\n",
       "      <td>ARMOREL</td>\n",
       "      <td>31986 475th Ave</td>\n",
       "    </tr>\n",
       "    <tr>\n",
       "      <th>state_name</th>\n",
       "      <td>North Dakota</td>\n",
       "      <td>South Dakota</td>\n",
       "      <td>North Dakota</td>\n",
       "      <td>North Dakota</td>\n",
       "      <td>South Dakota</td>\n",
       "      <td>North Dakota</td>\n",
       "      <td>North Dakota</td>\n",
       "      <td>North Dakota</td>\n",
       "      <td>Arkansas</td>\n",
       "      <td>South Dakota</td>\n",
       "    </tr>\n",
       "    <tr>\n",
       "      <th>county_name</th>\n",
       "      <td>Burleigh</td>\n",
       "      <td>Union</td>\n",
       "      <td>Burleigh</td>\n",
       "      <td>Burleigh</td>\n",
       "      <td>Union</td>\n",
       "      <td>Burleigh</td>\n",
       "      <td>Burleigh</td>\n",
       "      <td>Burleigh</td>\n",
       "      <td>Mississippi</td>\n",
       "      <td>Union</td>\n",
       "    </tr>\n",
       "    <tr>\n",
       "      <th>city_name</th>\n",
       "      <td>Bismarck</td>\n",
       "      <td>Not in a city</td>\n",
       "      <td>Bismarck</td>\n",
       "      <td>Bismarck</td>\n",
       "      <td>Not in a city</td>\n",
       "      <td>Bismarck</td>\n",
       "      <td>Bismarck</td>\n",
       "      <td>Bismarck</td>\n",
       "      <td>Not in a city</td>\n",
       "      <td>Not in a city</td>\n",
       "    </tr>\n",
       "    <tr>\n",
       "      <th>cbsa_name</th>\n",
       "      <td>Bismarck, ND</td>\n",
       "      <td>Sioux City, IA-NE-SD</td>\n",
       "      <td>Bismarck, ND</td>\n",
       "      <td>Bismarck, ND</td>\n",
       "      <td>Sioux City, IA-NE-SD</td>\n",
       "      <td>Bismarck, ND</td>\n",
       "      <td>Bismarck, ND</td>\n",
       "      <td>Bismarck, ND</td>\n",
       "      <td>Blytheville, AR</td>\n",
       "      <td>Sioux City, IA-NE-SD</td>\n",
       "    </tr>\n",
       "    <tr>\n",
       "      <th>date_of_last_change</th>\n",
       "      <td>2018-02-07</td>\n",
       "      <td>2013-06-10</td>\n",
       "      <td>2018-02-07</td>\n",
       "      <td>2018-02-07</td>\n",
       "      <td>2014-07-22</td>\n",
       "      <td>2018-02-07</td>\n",
       "      <td>2018-02-07</td>\n",
       "      <td>2019-01-22</td>\n",
       "      <td>2018-06-04</td>\n",
       "      <td>2016-04-09</td>\n",
       "    </tr>\n",
       "  </tbody>\n",
       "</table>\n",
       "</div>"
      ],
      "text/plain": [
       "                                                                     0  \\\n",
       "state_code                                                          38   \n",
       "county_code                                                        015   \n",
       "site_num                                                          0003   \n",
       "parameter_code                                                   42101   \n",
       "poc                                                                  1   \n",
       "latitude                                                       46.8254   \n",
       "longitude                                                     -100.768   \n",
       "datum                                                            NAD83   \n",
       "parameter_name                                         Carbon monoxide   \n",
       "sample_duration                                                 1 HOUR   \n",
       "pollutant_standard                                      CO 1-hour 1971   \n",
       "date_local                                                  2017-12-25   \n",
       "units_of_measure                                     Parts per million   \n",
       "event_type                                                        None   \n",
       "observation_count                                                   23   \n",
       "observation_percent                                                 96   \n",
       "arithmetic_mean                                               0.148565   \n",
       "first_max_value                                                  0.173   \n",
       "first_max_hour                                                      22   \n",
       "aqi                                                                NaN   \n",
       "method_code                                                        554   \n",
       "method_name          INSTRUMENTAL - Gas Filter Correlation Thermo E...   \n",
       "local_site_name                                   BISMARCK RESIDENTIAL   \n",
       "address                                             1810 N 16TH STREET   \n",
       "state_name                                                North Dakota   \n",
       "county_name                                                   Burleigh   \n",
       "city_name                                                     Bismarck   \n",
       "cbsa_name                                                 Bismarck, ND   \n",
       "date_of_last_change                                         2018-02-07   \n",
       "\n",
       "                                                                     1  \\\n",
       "state_code                                                          46   \n",
       "county_code                                                        127   \n",
       "site_num                                                          0001   \n",
       "parameter_code                                                   42101   \n",
       "poc                                                                  3   \n",
       "latitude                                                       42.7515   \n",
       "longitude                                                     -96.7072   \n",
       "datum                                                            WGS84   \n",
       "parameter_name                                         Carbon monoxide   \n",
       "sample_duration                                                 1 HOUR   \n",
       "pollutant_standard                                      CO 1-hour 1971   \n",
       "date_local                                                  2011-03-11   \n",
       "units_of_measure                                     Parts per million   \n",
       "event_type                                                        None   \n",
       "observation_count                                                   24   \n",
       "observation_percent                                                100   \n",
       "arithmetic_mean                                               0.174917   \n",
       "first_max_value                                                  0.194   \n",
       "first_max_hour                                                       2   \n",
       "aqi                                                                NaN   \n",
       "method_code                                                        593   \n",
       "method_name          INSTRUMENTAL - Gas Filter Correlation Teledyne...   \n",
       "local_site_name                                 Union County #1 Jensen   \n",
       "address                                                31986 475th Ave   \n",
       "state_name                                                South Dakota   \n",
       "county_name                                                      Union   \n",
       "city_name                                                Not in a city   \n",
       "cbsa_name                                         Sioux City, IA-NE-SD   \n",
       "date_of_last_change                                         2013-06-10   \n",
       "\n",
       "                                                                     2  \\\n",
       "state_code                                                          38   \n",
       "county_code                                                        015   \n",
       "site_num                                                          0003   \n",
       "parameter_code                                                   42101   \n",
       "poc                                                                  1   \n",
       "latitude                                                       46.8254   \n",
       "longitude                                                     -100.768   \n",
       "datum                                                            NAD83   \n",
       "parameter_name                                         Carbon monoxide   \n",
       "sample_duration                                                 1 HOUR   \n",
       "pollutant_standard                                      CO 1-hour 1971   \n",
       "date_local                                                  2017-06-23   \n",
       "units_of_measure                                     Parts per million   \n",
       "event_type                                                        None   \n",
       "observation_count                                                   23   \n",
       "observation_percent                                                 96   \n",
       "arithmetic_mean                                               0.126391   \n",
       "first_max_value                                                  0.153   \n",
       "first_max_hour                                                      23   \n",
       "aqi                                                                NaN   \n",
       "method_code                                                        554   \n",
       "method_name          INSTRUMENTAL - Gas Filter Correlation Thermo E...   \n",
       "local_site_name                                   BISMARCK RESIDENTIAL   \n",
       "address                                             1810 N 16TH STREET   \n",
       "state_name                                                North Dakota   \n",
       "county_name                                                   Burleigh   \n",
       "city_name                                                     Bismarck   \n",
       "cbsa_name                                                 Bismarck, ND   \n",
       "date_of_last_change                                         2018-02-07   \n",
       "\n",
       "                                         3                       4  \\\n",
       "state_code                              38                      46   \n",
       "county_code                            015                     127   \n",
       "site_num                              0003                    0001   \n",
       "parameter_code                       42101                   42101   \n",
       "poc                                      1                       3   \n",
       "latitude                           46.8254                 42.7515   \n",
       "longitude                         -100.768                -96.7072   \n",
       "datum                                NAD83                   WGS84   \n",
       "parameter_name             Carbon monoxide         Carbon monoxide   \n",
       "sample_duration      8-HR RUN AVG END HOUR   8-HR RUN AVG END HOUR   \n",
       "pollutant_standard          CO 8-hour 1971          CO 8-hour 1971   \n",
       "date_local                      2017-10-29              2013-06-04   \n",
       "units_of_measure         Parts per million       Parts per million   \n",
       "event_type                            None                    None   \n",
       "observation_count                       24                      24   \n",
       "observation_percent                    100                     100   \n",
       "arithmetic_mean                     0.1125                     0.1   \n",
       "first_max_value                        0.2                     0.1   \n",
       "first_max_hour                           0                       0   \n",
       "aqi                                      2                       1   \n",
       "method_code                            NaN                     NaN   \n",
       "method_name                              -                       -   \n",
       "local_site_name       BISMARCK RESIDENTIAL  Union County #1 Jensen   \n",
       "address                 1810 N 16TH STREET         31986 475th Ave   \n",
       "state_name                    North Dakota            South Dakota   \n",
       "county_name                       Burleigh                   Union   \n",
       "city_name                         Bismarck           Not in a city   \n",
       "cbsa_name                     Bismarck, ND    Sioux City, IA-NE-SD   \n",
       "date_of_last_change             2018-02-07              2014-07-22   \n",
       "\n",
       "                                         5                      6  \\\n",
       "state_code                              38                     38   \n",
       "county_code                            015                    015   \n",
       "site_num                              0003                   0003   \n",
       "parameter_code                       42101                  42101   \n",
       "poc                                      1                      1   \n",
       "latitude                           46.8254                46.8254   \n",
       "longitude                         -100.768               -100.768   \n",
       "datum                                NAD83                  NAD83   \n",
       "parameter_name             Carbon monoxide        Carbon monoxide   \n",
       "sample_duration      8-HR RUN AVG END HOUR  8-HR RUN AVG END HOUR   \n",
       "pollutant_standard          CO 8-hour 1971         CO 8-hour 1971   \n",
       "date_local                      2017-01-13             2017-11-03   \n",
       "units_of_measure         Parts per million      Parts per million   \n",
       "event_type                            None                   None   \n",
       "observation_count                       24                     24   \n",
       "observation_percent                    100                    100   \n",
       "arithmetic_mean                   0.229167                    0.1   \n",
       "first_max_value                        0.4                    0.1   \n",
       "first_max_hour                           0                      0   \n",
       "aqi                                      5                      1   \n",
       "method_code                            NaN                    NaN   \n",
       "method_name                              -                      -   \n",
       "local_site_name       BISMARCK RESIDENTIAL   BISMARCK RESIDENTIAL   \n",
       "address                 1810 N 16TH STREET     1810 N 16TH STREET   \n",
       "state_name                    North Dakota           North Dakota   \n",
       "county_name                       Burleigh               Burleigh   \n",
       "city_name                         Bismarck               Bismarck   \n",
       "cbsa_name                     Bismarck, ND           Bismarck, ND   \n",
       "date_of_last_change             2018-02-07             2018-02-07   \n",
       "\n",
       "                                                                     7  \\\n",
       "state_code                                                          38   \n",
       "county_code                                                        015   \n",
       "site_num                                                          0003   \n",
       "parameter_code                                                   42101   \n",
       "poc                                                                  1   \n",
       "latitude                                                       46.8254   \n",
       "longitude                                                     -100.768   \n",
       "datum                                                            NAD83   \n",
       "parameter_name                                         Carbon monoxide   \n",
       "sample_duration                                                 1 HOUR   \n",
       "pollutant_standard                                      CO 1-hour 1971   \n",
       "date_local                                                  2018-11-13   \n",
       "units_of_measure                                     Parts per million   \n",
       "event_type                                                        None   \n",
       "observation_count                                                   23   \n",
       "observation_percent                                                 96   \n",
       "arithmetic_mean                                               0.240609   \n",
       "first_max_value                                                  0.492   \n",
       "first_max_hour                                                      18   \n",
       "aqi                                                                NaN   \n",
       "method_code                                                        554   \n",
       "method_name          INSTRUMENTAL - Gas Filter Correlation Thermo E...   \n",
       "local_site_name                                   BISMARCK RESIDENTIAL   \n",
       "address                                             1810 N 16TH STREET   \n",
       "state_name                                                North Dakota   \n",
       "county_name                                                   Burleigh   \n",
       "city_name                                                     Bismarck   \n",
       "cbsa_name                                                 Bismarck, ND   \n",
       "date_of_last_change                                         2019-01-22   \n",
       "\n",
       "                                                         8  \\\n",
       "state_code                                               5   \n",
       "county_code                                            093   \n",
       "site_num                                              0005   \n",
       "parameter_code                                       42101   \n",
       "poc                                                      1   \n",
       "latitude                                           35.8909   \n",
       "longitude                                          -89.784   \n",
       "datum                                                WGS84   \n",
       "parameter_name                             Carbon monoxide   \n",
       "sample_duration                                     1 HOUR   \n",
       "pollutant_standard                          CO 1-hour 1971   \n",
       "date_local                                      1992-01-12   \n",
       "units_of_measure                         Parts per million   \n",
       "event_type                                            None   \n",
       "observation_count                                       24   \n",
       "observation_percent                                    100   \n",
       "arithmetic_mean                                      0.225   \n",
       "first_max_value                                        0.4   \n",
       "first_max_hour                                           0   \n",
       "aqi                                                    NaN   \n",
       "method_code                                             11   \n",
       "method_name          INSTRUMENTAL - NONDISPERSIVE INFRARED   \n",
       "local_site_name                                       None   \n",
       "address                                            ARMOREL   \n",
       "state_name                                        Arkansas   \n",
       "county_name                                    Mississippi   \n",
       "city_name                                    Not in a city   \n",
       "cbsa_name                                  Blytheville, AR   \n",
       "date_of_last_change                             2018-06-04   \n",
       "\n",
       "                                          9  \n",
       "state_code                               46  \n",
       "county_code                             127  \n",
       "site_num                               0001  \n",
       "parameter_code                        42101  \n",
       "poc                                       3  \n",
       "latitude                            42.7515  \n",
       "longitude                          -96.7072  \n",
       "datum                                 WGS84  \n",
       "parameter_name              Carbon monoxide  \n",
       "sample_duration       8-HR RUN AVG END HOUR  \n",
       "pollutant_standard           CO 8-hour 1971  \n",
       "date_local                       2012-06-26  \n",
       "units_of_measure          Parts per million  \n",
       "event_type                             None  \n",
       "observation_count                        24  \n",
       "observation_percent                     100  \n",
       "arithmetic_mean                         0.1  \n",
       "first_max_value                         0.1  \n",
       "first_max_hour                            0  \n",
       "aqi                                       1  \n",
       "method_code                             NaN  \n",
       "method_name                               -  \n",
       "local_site_name      Union County #1 Jensen  \n",
       "address                     31986 475th Ave  \n",
       "state_name                     South Dakota  \n",
       "county_name                           Union  \n",
       "city_name                     Not in a city  \n",
       "cbsa_name              Sioux City, IA-NE-SD  \n",
       "date_of_last_change              2016-04-09  "
      ]
     },
     "execution_count": 28,
     "metadata": {},
     "output_type": "execute_result"
    }
   ],
   "source": [
    "df.select(\"*\").limit(10).toPandas().transpose()"
   ]
  },
  {
   "cell_type": "code",
   "execution_count": 29,
   "metadata": {},
   "outputs": [],
   "source": [
    "if cnf_data.DATASET_STORE == \"local\":\n",
    "    !rm -rf {config.ARTIFACTS}/sample_air_quality\n",
    "    df.write.mode(\"overwrite\").parquet(\"/tmp/sample_air_quality/\")\n",
    "    !mv /tmp/sample_air_quality/ {config.ARTIFACTS}/\n",
    "else:\n",
    "    df.write.mode(\"overwrite\").parquet(f\"{dwh['s3']['bucket-1']['FQN']}/sample_air_quality/\")"
   ]
  },
  {
   "cell_type": "markdown",
   "metadata": {},
   "source": [
    "# Load and sample dataset \"US Droughts\""
   ]
  },
  {
   "cell_type": "code",
   "execution_count": 30,
   "metadata": {},
   "outputs": [],
   "source": [
    "schema = t.StructType([\n",
    "    t.StructField(\"releaseDate\", t.DateType()),\n",
    "    t.StructField(\"FIPS\", t.LongType()),\n",
    "    t.StructField(\"county\", t.StringType()),\n",
    "    t.StructField(\"state\", t.StringType()),\n",
    "    t.StructField(\"NONE\", t.FloatType()),\n",
    "    t.StructField(\"D0\", t.FloatType()),\n",
    "    t.StructField(\"D1\", t.FloatType()),\n",
    "    t.StructField(\"D2\", t.FloatType()),\n",
    "    t.StructField(\"D3\", t.FloatType()),\n",
    "    t.StructField(\"D4\", t.FloatType()),\n",
    "    t.StructField(\"validStart\", t.DateType()),\n",
    "    t.StructField(\"validEnd\", t.DateType()),\n",
    "    t.StructField(\"domStatisticFormatID\", t.IntegerType()),\n",
    "])"
   ]
  },
  {
   "cell_type": "markdown",
   "metadata": {},
   "source": [
    "1. Clean \"county\" field, remove the text \"county\"."
   ]
  },
  {
   "cell_type": "code",
   "execution_count": 31,
   "metadata": {},
   "outputs": [],
   "source": [
    "df = spark.read.csv(f\"{config.RAW_DATA}/us-droughts.csv\", header=True, schema=schema)"
   ]
  },
  {
   "cell_type": "code",
   "execution_count": 32,
   "metadata": {},
   "outputs": [],
   "source": [
    "df = df.withColumn(\"county_cleaned\", fn.trim(fn.regexp_replace(fn.col(\"county\"), \" County\", \"\")))"
   ]
  },
  {
   "cell_type": "code",
   "execution_count": 33,
   "metadata": {},
   "outputs": [],
   "source": [
    "# # New partition columns\n",
    "# part_cols = {\n",
    "#     \"part_year\": fn.year(fn.col(\"releaseDate\")),\n",
    "#     \"part_month\": fn.month(fn.col(\"releaseDate\"))\n",
    "# }\n",
    "\n",
    "# for new_col, col_fn in part_cols.items():\n",
    "#     df = df.withColumn(new_col, col_fn)"
   ]
  },
  {
   "cell_type": "code",
   "execution_count": 34,
   "metadata": {},
   "outputs": [],
   "source": [
    "if cnf_data.DATASET_SAMPLE:\n",
    "    sample = df.sample(fraction=cnf_data.DATASET_SAMPLE_FRAC, withReplacement=True)\n",
    "    df = sample"
   ]
  },
  {
   "cell_type": "code",
   "execution_count": 35,
   "metadata": {},
   "outputs": [],
   "source": [
    "if cnf_data.DATASET_STORE == \"local\":\n",
    "    !rm -rf {config.ARTIFACTS}/sample_us_droughts\n",
    "    df.write.mode(\"overwrite\").parquet(\"/tmp/sample_us_droughts\")\n",
    "    !mv /tmp/sample_us_droughts/ {config.ARTIFACTS}/\n",
    "else:\n",
    "    df.write.mode(\"overwrite\").parquet(f\"{dwh['s3']['bucket-1']['FQN']}/sample_us_droughts\")"
   ]
  },
  {
   "cell_type": "markdown",
   "metadata": {},
   "source": [
    "# Load and sample dataset \"Global Temperatures\""
   ]
  },
  {
   "cell_type": "code",
   "execution_count": 36,
   "metadata": {},
   "outputs": [],
   "source": [
    "schema = t.StructType([\n",
    "    t.StructField(\"dt\", t.DateType()),\n",
    "    t.StructField(\"AverageTemperature\", t.FloatType()),\n",
    "    t.StructField(\"AverageTemperatureUncertainty\", t.FloatType()),\n",
    "    t.StructField(\"State\", t.StringType()),\n",
    "    t.StructField(\"Country\", t.StringType()),\n",
    "])"
   ]
  },
  {
   "cell_type": "markdown",
   "metadata": {},
   "source": [
    "1. We need to filter based on country "
   ]
  },
  {
   "cell_type": "code",
   "execution_count": 37,
   "metadata": {},
   "outputs": [],
   "source": [
    "df = spark.read.csv(f\"{config.RAW_DATA}/GlobalLandTemperaturesByState.csv\", header=True, schema=schema)"
   ]
  },
  {
   "cell_type": "code",
   "execution_count": 38,
   "metadata": {},
   "outputs": [
    {
     "data": {
      "text/plain": [
       "645675"
      ]
     },
     "execution_count": 38,
     "metadata": {},
     "output_type": "execute_result"
    }
   ],
   "source": [
    "df.count()"
   ]
  },
  {
   "cell_type": "code",
   "execution_count": 39,
   "metadata": {},
   "outputs": [],
   "source": [
    "df = df.select(\"*\").where(fn.col(\"Country\") == \"United States\")"
   ]
  },
  {
   "cell_type": "code",
   "execution_count": 40,
   "metadata": {},
   "outputs": [],
   "source": [
    "df = df.drop(\"Country\")"
   ]
  },
  {
   "cell_type": "code",
   "execution_count": 41,
   "metadata": {},
   "outputs": [
    {
     "data": {
      "text/plain": [
       "149745"
      ]
     },
     "execution_count": 41,
     "metadata": {},
     "output_type": "execute_result"
    }
   ],
   "source": [
    "df.count()"
   ]
  },
  {
   "cell_type": "code",
   "execution_count": 42,
   "metadata": {},
   "outputs": [
    {
     "name": "stdout",
     "output_type": "stream",
     "text": [
      "+----------+------------------+-----------------------------+-------+\n",
      "|        dt|AverageTemperature|AverageTemperatureUncertainty|  State|\n",
      "+----------+------------------+-----------------------------+-------+\n",
      "|1743-11-01|            10.722|                        2.898|Alabama|\n",
      "+----------+------------------+-----------------------------+-------+\n",
      "\n"
     ]
    }
   ],
   "source": [
    "df.select(\"*\").limit(1).show()"
   ]
  },
  {
   "cell_type": "code",
   "execution_count": 43,
   "metadata": {},
   "outputs": [],
   "source": [
    "# # New partition columns\n",
    "# part_cols = {\n",
    "#     \"part_year\": fn.year(fn.col(\"dt\")),\n",
    "#     \"part_month\": fn.month(fn.col(\"dt\"))\n",
    "# }\n",
    "\n",
    "# for new_col, col_fn in part_cols.items():\n",
    "#     df = df.withColumn(new_col, col_fn)"
   ]
  },
  {
   "cell_type": "code",
   "execution_count": 44,
   "metadata": {},
   "outputs": [],
   "source": [
    "if cnf_data.DATASET_SAMPLE:\n",
    "    sample = df.sample(fraction=cnf_data.DATASET_SAMPLE_FRAC, withReplacement=True)\n",
    "    df = sample"
   ]
  },
  {
   "cell_type": "code",
   "execution_count": 45,
   "metadata": {},
   "outputs": [
    {
     "data": {
      "text/plain": [
       "7551"
      ]
     },
     "execution_count": 45,
     "metadata": {},
     "output_type": "execute_result"
    }
   ],
   "source": [
    "df.count()"
   ]
  },
  {
   "cell_type": "code",
   "execution_count": 46,
   "metadata": {},
   "outputs": [],
   "source": [
    "if cnf_data.DATASET_STORE == \"local\":\n",
    "    !rm -rf {config.ARTIFACTS}/sample_global_temperatures\n",
    "    df.write.mode(\"overwrite\").parquet(\"/tmp/sample_global_temperatures\")\n",
    "    !mv /tmp/sample_global_temperatures/ {config.ARTIFACTS}/\n",
    "else:\n",
    "    df.write.mode(\"overwrite\").parquet(f\"{dwh['s3']['bucket-1']['FQN']}/sample_global_temperatures\")"
   ]
  },
  {
   "cell_type": "code",
   "execution_count": null,
   "metadata": {},
   "outputs": [],
   "source": []
  }
 ],
 "metadata": {
  "kernelspec": {
   "display_name": "Python 3",
   "language": "python",
   "name": "python3"
  },
  "language_info": {
   "codemirror_mode": {
    "name": "ipython",
    "version": 3
   },
   "file_extension": ".py",
   "mimetype": "text/x-python",
   "name": "python",
   "nbconvert_exporter": "python",
   "pygments_lexer": "ipython3",
   "version": "3.6.9"
  }
 },
 "nbformat": 4,
 "nbformat_minor": 4
}
