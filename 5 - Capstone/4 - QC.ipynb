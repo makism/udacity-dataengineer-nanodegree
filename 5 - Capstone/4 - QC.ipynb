{
 "cells": [
  {
   "cell_type": "markdown",
   "metadata": {},
   "source": [
    "**Udacity Data Engineering Capstone Project**<br/>\n",
    "Avraam Marimpis <avraam.marimpis@gmail.com>, October 2020\n",
    "\n",
    "- - -\n"
   ]
  },
  {
   "cell_type": "markdown",
   "metadata": {},
   "source": [
    "# Imports "
   ]
  },
  {
   "cell_type": "code",
   "execution_count": 1,
   "metadata": {},
   "outputs": [],
   "source": [
    "import sys\n",
    "sys.path.append('config/')\n",
    "sys.path.append('common/')\n",
    "\n",
    "import config\n",
    "import data as cnf_data\n",
    "import aws_dwh\n",
    "import preprocess_fn\n",
    "import redshift"
   ]
  },
  {
   "cell_type": "code",
   "execution_count": 2,
   "metadata": {},
   "outputs": [],
   "source": [
    "import pyspark\n",
    "import pyspark.sql.functions as fn\n",
    "import pyspark.sql.types as t"
   ]
  },
  {
   "cell_type": "code",
   "execution_count": 3,
   "metadata": {},
   "outputs": [],
   "source": [
    "import psycopg2"
   ]
  },
  {
   "cell_type": "code",
   "execution_count": 4,
   "metadata": {},
   "outputs": [],
   "source": [
    "import datetime\n",
    "import pandas as pd\n",
    "import matplotlib.pyplot as plt\n",
    "import seaborn as sns"
   ]
  },
  {
   "cell_type": "markdown",
   "metadata": {},
   "source": [
    "# Local AWS credentials and settings "
   ]
  },
  {
   "cell_type": "code",
   "execution_count": 5,
   "metadata": {},
   "outputs": [],
   "source": [
    "dwh = aws_dwh.parse_dwh()"
   ]
  },
  {
   "cell_type": "markdown",
   "metadata": {},
   "source": [
    "# Connect to Redshift "
   ]
  },
  {
   "cell_type": "code",
   "execution_count": 6,
   "metadata": {},
   "outputs": [],
   "source": [
    "conn = psycopg2.connect(f\"host={dwh['redshift']['host']} dbname=dev port=5439 user=awsuser password={dwh['redshift']['db_pass']}\")"
   ]
  },
  {
   "cell_type": "code",
   "execution_count": 7,
   "metadata": {},
   "outputs": [],
   "source": [
    "cur = conn.cursor()"
   ]
  },
  {
   "cell_type": "markdown",
   "metadata": {},
   "source": [
    "# Run Quality Checks"
   ]
  },
  {
   "cell_type": "code",
   "execution_count": 8,
   "metadata": {},
   "outputs": [
    {
     "name": "stdout",
     "output_type": "stream",
     "text": [
      "Running QC for table stage_wildfires... PASS\n",
      "Running QC for table stage_airquality... PASS\n",
      "Running QC for table stage_temperatures... PASS\n",
      "Running QC for table stage_droughts... PASS\n",
      "Running QC for table wildfires... PASS\n",
      "Running QC for table temperatures... PASS\n",
      "Running QC for table fips... PASS\n",
      "Running QC for table states_abbrv... PASS\n",
      "Running QC for table states_counties... PASS\n",
      "Running QC for table droughts... PASS\n",
      "Running QC for table airquality... PASS\n",
      "Running QC for table annual_reports... PASS\n"
     ]
    }
   ],
   "source": [
    "for qc, test in redshift.Redshift.QualityChecks.items():\n",
    "    print(f\"Running QC for table {qc}...\", end=\" \")\n",
    "    \n",
    "    q = test['query']\n",
    "    \n",
    "    try:\n",
    "        cur.execute(q)\n",
    "        \n",
    "        result = cur.fetchall()\n",
    "        num_records = result[0][0]\n",
    "        \n",
    "        if \"expected\" in test:\n",
    "            test_pass = num_records == test['expected']\n",
    "        elif \"not_expected\" in test:\n",
    "            test_pass = num_records != test['not_expected']\n",
    "            \n",
    "        if test_pass:\n",
    "            print(\"PASS\")\n",
    "        else:\n",
    "            print(\"FAIL\")\n",
    "        \n",
    "    except Exception as err:\n",
    "        print(err)\n",
    "        cur.execute(\"ROLLBACK\")\n",
    "    conn.commit()\n"
   ]
  },
  {
   "cell_type": "markdown",
   "metadata": {},
   "source": [
    "# Clean up "
   ]
  },
  {
   "cell_type": "code",
   "execution_count": 9,
   "metadata": {},
   "outputs": [],
   "source": [
    "cur.close()\n",
    "conn.close()"
   ]
  }
 ],
 "metadata": {
  "kernelspec": {
   "display_name": "Python 3",
   "language": "python",
   "name": "python3"
  },
  "language_info": {
   "codemirror_mode": {
    "name": "ipython",
    "version": 3
   },
   "file_extension": ".py",
   "mimetype": "text/x-python",
   "name": "python",
   "nbconvert_exporter": "python",
   "pygments_lexer": "ipython3",
   "version": "3.6.9"
  },
  "toc-autonumbering": true,
  "toc-showcode": false,
  "toc-showmarkdowntxt": false,
  "toc-showtags": true
 },
 "nbformat": 4,
 "nbformat_minor": 4
}
