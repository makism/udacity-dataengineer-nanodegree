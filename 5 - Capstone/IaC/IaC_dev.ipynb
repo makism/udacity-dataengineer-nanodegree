{
 "cells": [
  {
   "cell_type": "markdown",
   "metadata": {},
   "source": [
    "Development notebook for IaC"
   ]
  },
  {
   "cell_type": "markdown",
   "metadata": {},
   "source": [
    "# Imports "
   ]
  },
  {
   "cell_type": "code",
   "execution_count": 1,
   "metadata": {},
   "outputs": [],
   "source": [
    "import sys"
   ]
  },
  {
   "cell_type": "code",
   "execution_count": 2,
   "metadata": {},
   "outputs": [],
   "source": [
    "sys.path.append(\"../config/\")\n",
    "import config"
   ]
  },
  {
   "cell_type": "code",
   "execution_count": 3,
   "metadata": {},
   "outputs": [],
   "source": [
    "sys.path.append(\"../common/\")\n",
    "import aws_dwh"
   ]
  },
  {
   "cell_type": "code",
   "execution_count": 4,
   "metadata": {},
   "outputs": [],
   "source": [
    "import boto3"
   ]
  },
  {
   "cell_type": "code",
   "execution_count": 5,
   "metadata": {},
   "outputs": [],
   "source": [
    "import json"
   ]
  },
  {
   "cell_type": "markdown",
   "metadata": {},
   "source": [
    "# Load credentials and configuration "
   ]
  },
  {
   "cell_type": "code",
   "execution_count": 6,
   "metadata": {},
   "outputs": [],
   "source": [
    "dwh = aws_dwh.parse_dwh()"
   ]
  },
  {
   "cell_type": "markdown",
   "metadata": {},
   "source": [
    "# Mirror directory to S3 "
   ]
  },
  {
   "cell_type": "code",
   "execution_count": 7,
   "metadata": {},
   "outputs": [],
   "source": [
    "dirs = [\n",
    "    f\"{config.ARTIFACTS}/wildfires\",\n",
    "    f\"{config.ARTIFACTS}/imputed_temperatures\",\n",
    "    f\"{config.ARTIFACTS}/temperatures\",\n",
    "    f\"{config.ARTIFACTS}/airquality\",\n",
    "    f\"{config.ARTIFACTS}/droughts\",\n",
    "    f\"{config.REDSHIFT_JSON_PATHS}\",\n",
    "]"
   ]
  },
  {
   "cell_type": "code",
   "execution_count": 8,
   "metadata": {},
   "outputs": [
    {
     "name": "stderr",
     "output_type": "stream",
     "text": [
      "0it [00:00, ?it/s]"
     ]
    },
    {
     "name": "stdout",
     "output_type": "stream",
     "text": [
      "2020-10-14 14:06:16,049 — upload_to_s3 — INFO —upload_to_s3:72 — Upload \"/mtgp/UDACITY/artifacts/wildfires/part-00000-2457b28a-f8e7-49e8-a34e-4d8d41e9bf6e-c000.json\" to \"wildfires/part-00000-2457b28a-f8e7-49e8-a34e-4d8d41e9bf6e-c000.json\".\n",
      "2020-10-14 14:08:17,389 — upload_to_s3 — INFO —upload_to_s3:72 — Upload \"/mtgp/UDACITY/artifacts/wildfires/_SUCCESS\" to \"wildfires/_SUCCESS\".\n",
      "2020-10-14 14:08:17,451 — upload_to_s3 — INFO —upload_to_s3:72 — Upload \"/mtgp/UDACITY/artifacts/wildfires/.part-00000-2457b28a-f8e7-49e8-a34e-4d8d41e9bf6e-c000.json.crc\" to \"wildfires/.part-00000-2457b28a-f8e7-49e8-a34e-4d8d41e9bf6e-c000.json.crc\".\n",
      "2020-10-14 14:08:19,578 — upload_to_s3 — INFO —upload_to_s3:72 — Upload \"/mtgp/UDACITY/artifacts/wildfires/._SUCCESS.crc\" to \"wildfires/._SUCCESS.crc\".\n",
      "2020-10-14 14:08:19,744 — upload_to_s3 — INFO —upload_to_s3:72 — Upload \"/mtgp/UDACITY/artifacts/wildfires/wildfires.json\" to \"wildfires/wildfires.json\".\n"
     ]
    },
    {
     "name": "stderr",
     "output_type": "stream",
     "text": [
      "1it [02:03, 123.89s/it]\n",
      "0it [00:00, ?it/s]"
     ]
    },
    {
     "name": "stdout",
     "output_type": "stream",
     "text": [
      "2020-10-14 14:08:19,964 — upload_to_s3 — INFO —upload_to_s3:72 — Upload \"/mtgp/UDACITY/artifacts/imputed_temperatures/.part-00000-20e28ff1-798b-4daf-8e19-2360cffe3171-c000.json.crc\" to \"imputed_temperatures/.part-00000-20e28ff1-798b-4daf-8e19-2360cffe3171-c000.json.crc\".\n",
      "2020-10-14 14:08:19,964 — upload_to_s3 — INFO —upload_to_s3:72 — Upload \"/mtgp/UDACITY/artifacts/imputed_temperatures/.part-00000-20e28ff1-798b-4daf-8e19-2360cffe3171-c000.json.crc\" to \"imputed_temperatures/.part-00000-20e28ff1-798b-4daf-8e19-2360cffe3171-c000.json.crc\".\n",
      "2020-10-14 14:08:20,324 — upload_to_s3 — INFO —upload_to_s3:72 — Upload \"/mtgp/UDACITY/artifacts/imputed_temperatures/_SUCCESS\" to \"imputed_temperatures/_SUCCESS\".\n",
      "2020-10-14 14:08:20,324 — upload_to_s3 — INFO —upload_to_s3:72 — Upload \"/mtgp/UDACITY/artifacts/imputed_temperatures/_SUCCESS\" to \"imputed_temperatures/_SUCCESS\".\n",
      "2020-10-14 14:08:20,390 — upload_to_s3 — INFO —upload_to_s3:72 — Upload \"/mtgp/UDACITY/artifacts/imputed_temperatures/._SUCCESS.crc\" to \"imputed_temperatures/._SUCCESS.crc\".\n",
      "2020-10-14 14:08:20,390 — upload_to_s3 — INFO —upload_to_s3:72 — Upload \"/mtgp/UDACITY/artifacts/imputed_temperatures/._SUCCESS.crc\" to \"imputed_temperatures/._SUCCESS.crc\".\n",
      "2020-10-14 14:08:20,473 — upload_to_s3 — INFO —upload_to_s3:72 — Upload \"/mtgp/UDACITY/artifacts/imputed_temperatures/part-00000-20e28ff1-798b-4daf-8e19-2360cffe3171-c000.json\" to \"imputed_temperatures/part-00000-20e28ff1-798b-4daf-8e19-2360cffe3171-c000.json\".\n",
      "2020-10-14 14:08:20,473 — upload_to_s3 — INFO —upload_to_s3:72 — Upload \"/mtgp/UDACITY/artifacts/imputed_temperatures/part-00000-20e28ff1-798b-4daf-8e19-2360cffe3171-c000.json\" to \"imputed_temperatures/part-00000-20e28ff1-798b-4daf-8e19-2360cffe3171-c000.json\".\n"
     ]
    },
    {
     "name": "stderr",
     "output_type": "stream",
     "text": [
      "1it [00:09,  9.29s/it]\n",
      "0it [00:00, ?it/s]"
     ]
    },
    {
     "name": "stdout",
     "output_type": "stream",
     "text": [
      "2020-10-14 14:08:29,282 — upload_to_s3 — INFO —upload_to_s3:72 — Upload \"/mtgp/UDACITY/artifacts/temperatures/part-00000-a68ff967-8bc1-498a-9747-8702401efc06-c000.json\" to \"temperatures/part-00000-a68ff967-8bc1-498a-9747-8702401efc06-c000.json\".\n",
      "2020-10-14 14:08:29,282 — upload_to_s3 — INFO —upload_to_s3:72 — Upload \"/mtgp/UDACITY/artifacts/temperatures/part-00000-a68ff967-8bc1-498a-9747-8702401efc06-c000.json\" to \"temperatures/part-00000-a68ff967-8bc1-498a-9747-8702401efc06-c000.json\".\n",
      "2020-10-14 14:08:29,282 — upload_to_s3 — INFO —upload_to_s3:72 — Upload \"/mtgp/UDACITY/artifacts/temperatures/part-00000-a68ff967-8bc1-498a-9747-8702401efc06-c000.json\" to \"temperatures/part-00000-a68ff967-8bc1-498a-9747-8702401efc06-c000.json\".\n",
      "2020-10-14 14:08:39,398 — upload_to_s3 — INFO —upload_to_s3:72 — Upload \"/mtgp/UDACITY/artifacts/temperatures/_SUCCESS\" to \"temperatures/_SUCCESS\".\n",
      "2020-10-14 14:08:39,398 — upload_to_s3 — INFO —upload_to_s3:72 — Upload \"/mtgp/UDACITY/artifacts/temperatures/_SUCCESS\" to \"temperatures/_SUCCESS\".\n",
      "2020-10-14 14:08:39,398 — upload_to_s3 — INFO —upload_to_s3:72 — Upload \"/mtgp/UDACITY/artifacts/temperatures/_SUCCESS\" to \"temperatures/_SUCCESS\".\n",
      "2020-10-14 14:08:39,674 — upload_to_s3 — INFO —upload_to_s3:72 — Upload \"/mtgp/UDACITY/artifacts/temperatures/.part-00000-a68ff967-8bc1-498a-9747-8702401efc06-c000.json.crc\" to \"temperatures/.part-00000-a68ff967-8bc1-498a-9747-8702401efc06-c000.json.crc\".\n",
      "2020-10-14 14:08:39,674 — upload_to_s3 — INFO —upload_to_s3:72 — Upload \"/mtgp/UDACITY/artifacts/temperatures/.part-00000-a68ff967-8bc1-498a-9747-8702401efc06-c000.json.crc\" to \"temperatures/.part-00000-a68ff967-8bc1-498a-9747-8702401efc06-c000.json.crc\".\n",
      "2020-10-14 14:08:39,674 — upload_to_s3 — INFO —upload_to_s3:72 — Upload \"/mtgp/UDACITY/artifacts/temperatures/.part-00000-a68ff967-8bc1-498a-9747-8702401efc06-c000.json.crc\" to \"temperatures/.part-00000-a68ff967-8bc1-498a-9747-8702401efc06-c000.json.crc\".\n",
      "2020-10-14 14:08:39,880 — upload_to_s3 — INFO —upload_to_s3:72 — Upload \"/mtgp/UDACITY/artifacts/temperatures/._SUCCESS.crc\" to \"temperatures/._SUCCESS.crc\".\n",
      "2020-10-14 14:08:39,880 — upload_to_s3 — INFO —upload_to_s3:72 — Upload \"/mtgp/UDACITY/artifacts/temperatures/._SUCCESS.crc\" to \"temperatures/._SUCCESS.crc\".\n",
      "2020-10-14 14:08:39,880 — upload_to_s3 — INFO —upload_to_s3:72 — Upload \"/mtgp/UDACITY/artifacts/temperatures/._SUCCESS.crc\" to \"temperatures/._SUCCESS.crc\".\n",
      "2020-10-14 14:08:40,240 — upload_to_s3 — INFO —upload_to_s3:72 — Upload \"/mtgp/UDACITY/artifacts/temperatures/temperatures.json\" to \"temperatures/temperatures.json\".\n",
      "2020-10-14 14:08:40,240 — upload_to_s3 — INFO —upload_to_s3:72 — Upload \"/mtgp/UDACITY/artifacts/temperatures/temperatures.json\" to \"temperatures/temperatures.json\".\n",
      "2020-10-14 14:08:40,240 — upload_to_s3 — INFO —upload_to_s3:72 — Upload \"/mtgp/UDACITY/artifacts/temperatures/temperatures.json\" to \"temperatures/temperatures.json\".\n"
     ]
    },
    {
     "name": "stderr",
     "output_type": "stream",
     "text": [
      "1it [00:11, 11.28s/it]\n",
      "0it [00:00, ?it/s]"
     ]
    },
    {
     "name": "stdout",
     "output_type": "stream",
     "text": [
      "2020-10-14 14:08:40,611 — upload_to_s3 — INFO —upload_to_s3:72 — Upload \"/mtgp/UDACITY/artifacts/airquality/.part-00000-916aee51-cd33-4dc2-88ad-f0fb96d4d766-c000.json.crc\" to \"airquality/.part-00000-916aee51-cd33-4dc2-88ad-f0fb96d4d766-c000.json.crc\".\n",
      "2020-10-14 14:08:40,611 — upload_to_s3 — INFO —upload_to_s3:72 — Upload \"/mtgp/UDACITY/artifacts/airquality/.part-00000-916aee51-cd33-4dc2-88ad-f0fb96d4d766-c000.json.crc\" to \"airquality/.part-00000-916aee51-cd33-4dc2-88ad-f0fb96d4d766-c000.json.crc\".\n",
      "2020-10-14 14:08:40,611 — upload_to_s3 — INFO —upload_to_s3:72 — Upload \"/mtgp/UDACITY/artifacts/airquality/.part-00000-916aee51-cd33-4dc2-88ad-f0fb96d4d766-c000.json.crc\" to \"airquality/.part-00000-916aee51-cd33-4dc2-88ad-f0fb96d4d766-c000.json.crc\".\n",
      "2020-10-14 14:08:40,611 — upload_to_s3 — INFO —upload_to_s3:72 — Upload \"/mtgp/UDACITY/artifacts/airquality/.part-00000-916aee51-cd33-4dc2-88ad-f0fb96d4d766-c000.json.crc\" to \"airquality/.part-00000-916aee51-cd33-4dc2-88ad-f0fb96d4d766-c000.json.crc\".\n",
      "2020-10-14 14:08:45,928 — upload_to_s3 — INFO —upload_to_s3:72 — Upload \"/mtgp/UDACITY/artifacts/airquality/airquality.json\" to \"airquality/airquality.json\".\n",
      "2020-10-14 14:08:45,928 — upload_to_s3 — INFO —upload_to_s3:72 — Upload \"/mtgp/UDACITY/artifacts/airquality/airquality.json\" to \"airquality/airquality.json\".\n",
      "2020-10-14 14:08:45,928 — upload_to_s3 — INFO —upload_to_s3:72 — Upload \"/mtgp/UDACITY/artifacts/airquality/airquality.json\" to \"airquality/airquality.json\".\n",
      "2020-10-14 14:08:45,928 — upload_to_s3 — INFO —upload_to_s3:72 — Upload \"/mtgp/UDACITY/artifacts/airquality/airquality.json\" to \"airquality/airquality.json\".\n",
      "2020-10-14 14:08:46,070 — upload_to_s3 — INFO —upload_to_s3:72 — Upload \"/mtgp/UDACITY/artifacts/airquality/_SUCCESS\" to \"airquality/_SUCCESS\".\n",
      "2020-10-14 14:08:46,070 — upload_to_s3 — INFO —upload_to_s3:72 — Upload \"/mtgp/UDACITY/artifacts/airquality/_SUCCESS\" to \"airquality/_SUCCESS\".\n",
      "2020-10-14 14:08:46,070 — upload_to_s3 — INFO —upload_to_s3:72 — Upload \"/mtgp/UDACITY/artifacts/airquality/_SUCCESS\" to \"airquality/_SUCCESS\".\n",
      "2020-10-14 14:08:46,070 — upload_to_s3 — INFO —upload_to_s3:72 — Upload \"/mtgp/UDACITY/artifacts/airquality/_SUCCESS\" to \"airquality/_SUCCESS\".\n",
      "2020-10-14 14:08:46,176 — upload_to_s3 — INFO —upload_to_s3:72 — Upload \"/mtgp/UDACITY/artifacts/airquality/._SUCCESS.crc\" to \"airquality/._SUCCESS.crc\".\n",
      "2020-10-14 14:08:46,176 — upload_to_s3 — INFO —upload_to_s3:72 — Upload \"/mtgp/UDACITY/artifacts/airquality/._SUCCESS.crc\" to \"airquality/._SUCCESS.crc\".\n",
      "2020-10-14 14:08:46,176 — upload_to_s3 — INFO —upload_to_s3:72 — Upload \"/mtgp/UDACITY/artifacts/airquality/._SUCCESS.crc\" to \"airquality/._SUCCESS.crc\".\n",
      "2020-10-14 14:08:46,176 — upload_to_s3 — INFO —upload_to_s3:72 — Upload \"/mtgp/UDACITY/artifacts/airquality/._SUCCESS.crc\" to \"airquality/._SUCCESS.crc\".\n",
      "2020-10-14 14:08:46,379 — upload_to_s3 — INFO —upload_to_s3:72 — Upload \"/mtgp/UDACITY/artifacts/airquality/part-00000-916aee51-cd33-4dc2-88ad-f0fb96d4d766-c000.json\" to \"airquality/part-00000-916aee51-cd33-4dc2-88ad-f0fb96d4d766-c000.json\".\n",
      "2020-10-14 14:08:46,379 — upload_to_s3 — INFO —upload_to_s3:72 — Upload \"/mtgp/UDACITY/artifacts/airquality/part-00000-916aee51-cd33-4dc2-88ad-f0fb96d4d766-c000.json\" to \"airquality/part-00000-916aee51-cd33-4dc2-88ad-f0fb96d4d766-c000.json\".\n",
      "2020-10-14 14:08:46,379 — upload_to_s3 — INFO —upload_to_s3:72 — Upload \"/mtgp/UDACITY/artifacts/airquality/part-00000-916aee51-cd33-4dc2-88ad-f0fb96d4d766-c000.json\" to \"airquality/part-00000-916aee51-cd33-4dc2-88ad-f0fb96d4d766-c000.json\".\n",
      "2020-10-14 14:08:46,379 — upload_to_s3 — INFO —upload_to_s3:72 — Upload \"/mtgp/UDACITY/artifacts/airquality/part-00000-916aee51-cd33-4dc2-88ad-f0fb96d4d766-c000.json\" to \"airquality/part-00000-916aee51-cd33-4dc2-88ad-f0fb96d4d766-c000.json\".\n"
     ]
    },
    {
     "name": "stderr",
     "output_type": "stream",
     "text": [
      "1it [02:54, 174.47s/it]\n",
      "0it [00:00, ?it/s]"
     ]
    },
    {
     "name": "stdout",
     "output_type": "stream",
     "text": [
      "2020-10-14 14:11:35,119 — upload_to_s3 — INFO —upload_to_s3:72 — Upload \"/mtgp/UDACITY/artifacts/droughts/part-00000-5923827d-34e5-49f0-bb14-6a57a0e45c13-c000.json\" to \"droughts/part-00000-5923827d-34e5-49f0-bb14-6a57a0e45c13-c000.json\".\n",
      "2020-10-14 14:11:35,119 — upload_to_s3 — INFO —upload_to_s3:72 — Upload \"/mtgp/UDACITY/artifacts/droughts/part-00000-5923827d-34e5-49f0-bb14-6a57a0e45c13-c000.json\" to \"droughts/part-00000-5923827d-34e5-49f0-bb14-6a57a0e45c13-c000.json\".\n",
      "2020-10-14 14:11:35,119 — upload_to_s3 — INFO —upload_to_s3:72 — Upload \"/mtgp/UDACITY/artifacts/droughts/part-00000-5923827d-34e5-49f0-bb14-6a57a0e45c13-c000.json\" to \"droughts/part-00000-5923827d-34e5-49f0-bb14-6a57a0e45c13-c000.json\".\n",
      "2020-10-14 14:11:35,119 — upload_to_s3 — INFO —upload_to_s3:72 — Upload \"/mtgp/UDACITY/artifacts/droughts/part-00000-5923827d-34e5-49f0-bb14-6a57a0e45c13-c000.json\" to \"droughts/part-00000-5923827d-34e5-49f0-bb14-6a57a0e45c13-c000.json\".\n",
      "2020-10-14 14:11:35,119 — upload_to_s3 — INFO —upload_to_s3:72 — Upload \"/mtgp/UDACITY/artifacts/droughts/part-00000-5923827d-34e5-49f0-bb14-6a57a0e45c13-c000.json\" to \"droughts/part-00000-5923827d-34e5-49f0-bb14-6a57a0e45c13-c000.json\".\n",
      "2020-10-14 14:13:39,231 — upload_to_s3 — INFO —upload_to_s3:72 — Upload \"/mtgp/UDACITY/artifacts/droughts/.part-00000-5923827d-34e5-49f0-bb14-6a57a0e45c13-c000.json.crc\" to \"droughts/.part-00000-5923827d-34e5-49f0-bb14-6a57a0e45c13-c000.json.crc\".\n",
      "2020-10-14 14:13:39,231 — upload_to_s3 — INFO —upload_to_s3:72 — Upload \"/mtgp/UDACITY/artifacts/droughts/.part-00000-5923827d-34e5-49f0-bb14-6a57a0e45c13-c000.json.crc\" to \"droughts/.part-00000-5923827d-34e5-49f0-bb14-6a57a0e45c13-c000.json.crc\".\n",
      "2020-10-14 14:13:39,231 — upload_to_s3 — INFO —upload_to_s3:72 — Upload \"/mtgp/UDACITY/artifacts/droughts/.part-00000-5923827d-34e5-49f0-bb14-6a57a0e45c13-c000.json.crc\" to \"droughts/.part-00000-5923827d-34e5-49f0-bb14-6a57a0e45c13-c000.json.crc\".\n",
      "2020-10-14 14:13:39,231 — upload_to_s3 — INFO —upload_to_s3:72 — Upload \"/mtgp/UDACITY/artifacts/droughts/.part-00000-5923827d-34e5-49f0-bb14-6a57a0e45c13-c000.json.crc\" to \"droughts/.part-00000-5923827d-34e5-49f0-bb14-6a57a0e45c13-c000.json.crc\".\n",
      "2020-10-14 14:13:39,231 — upload_to_s3 — INFO —upload_to_s3:72 — Upload \"/mtgp/UDACITY/artifacts/droughts/.part-00000-5923827d-34e5-49f0-bb14-6a57a0e45c13-c000.json.crc\" to \"droughts/.part-00000-5923827d-34e5-49f0-bb14-6a57a0e45c13-c000.json.crc\".\n",
      "2020-10-14 14:13:41,866 — upload_to_s3 — INFO —upload_to_s3:72 — Upload \"/mtgp/UDACITY/artifacts/droughts/_SUCCESS\" to \"droughts/_SUCCESS\".\n",
      "2020-10-14 14:13:41,866 — upload_to_s3 — INFO —upload_to_s3:72 — Upload \"/mtgp/UDACITY/artifacts/droughts/_SUCCESS\" to \"droughts/_SUCCESS\".\n",
      "2020-10-14 14:13:41,866 — upload_to_s3 — INFO —upload_to_s3:72 — Upload \"/mtgp/UDACITY/artifacts/droughts/_SUCCESS\" to \"droughts/_SUCCESS\".\n",
      "2020-10-14 14:13:41,866 — upload_to_s3 — INFO —upload_to_s3:72 — Upload \"/mtgp/UDACITY/artifacts/droughts/_SUCCESS\" to \"droughts/_SUCCESS\".\n",
      "2020-10-14 14:13:41,866 — upload_to_s3 — INFO —upload_to_s3:72 — Upload \"/mtgp/UDACITY/artifacts/droughts/_SUCCESS\" to \"droughts/_SUCCESS\".\n",
      "2020-10-14 14:13:41,982 — upload_to_s3 — INFO —upload_to_s3:72 — Upload \"/mtgp/UDACITY/artifacts/droughts/._SUCCESS.crc\" to \"droughts/._SUCCESS.crc\".\n",
      "2020-10-14 14:13:41,982 — upload_to_s3 — INFO —upload_to_s3:72 — Upload \"/mtgp/UDACITY/artifacts/droughts/._SUCCESS.crc\" to \"droughts/._SUCCESS.crc\".\n",
      "2020-10-14 14:13:41,982 — upload_to_s3 — INFO —upload_to_s3:72 — Upload \"/mtgp/UDACITY/artifacts/droughts/._SUCCESS.crc\" to \"droughts/._SUCCESS.crc\".\n",
      "2020-10-14 14:13:41,982 — upload_to_s3 — INFO —upload_to_s3:72 — Upload \"/mtgp/UDACITY/artifacts/droughts/._SUCCESS.crc\" to \"droughts/._SUCCESS.crc\".\n",
      "2020-10-14 14:13:41,982 — upload_to_s3 — INFO —upload_to_s3:72 — Upload \"/mtgp/UDACITY/artifacts/droughts/._SUCCESS.crc\" to \"droughts/._SUCCESS.crc\".\n"
     ]
    },
    {
     "name": "stderr",
     "output_type": "stream",
     "text": [
      "1it [02:07, 127.08s/it]\n",
      "0it [00:00, ?it/s]"
     ]
    },
    {
     "name": "stdout",
     "output_type": "stream",
     "text": [
      "2020-10-14 14:13:42,206 — upload_to_s3 — INFO —upload_to_s3:72 — Upload \"/mtgp/UDACITY/json_paths/airquality.json\" to \"json_paths/airquality.json\".\n",
      "2020-10-14 14:13:42,206 — upload_to_s3 — INFO —upload_to_s3:72 — Upload \"/mtgp/UDACITY/json_paths/airquality.json\" to \"json_paths/airquality.json\".\n",
      "2020-10-14 14:13:42,206 — upload_to_s3 — INFO —upload_to_s3:72 — Upload \"/mtgp/UDACITY/json_paths/airquality.json\" to \"json_paths/airquality.json\".\n",
      "2020-10-14 14:13:42,206 — upload_to_s3 — INFO —upload_to_s3:72 — Upload \"/mtgp/UDACITY/json_paths/airquality.json\" to \"json_paths/airquality.json\".\n",
      "2020-10-14 14:13:42,206 — upload_to_s3 — INFO —upload_to_s3:72 — Upload \"/mtgp/UDACITY/json_paths/airquality.json\" to \"json_paths/airquality.json\".\n",
      "2020-10-14 14:13:42,206 — upload_to_s3 — INFO —upload_to_s3:72 — Upload \"/mtgp/UDACITY/json_paths/airquality.json\" to \"json_paths/airquality.json\".\n",
      "2020-10-14 14:13:42,514 — upload_to_s3 — INFO —upload_to_s3:72 — Upload \"/mtgp/UDACITY/json_paths/droughts.json\" to \"json_paths/droughts.json\".\n",
      "2020-10-14 14:13:42,514 — upload_to_s3 — INFO —upload_to_s3:72 — Upload \"/mtgp/UDACITY/json_paths/droughts.json\" to \"json_paths/droughts.json\".\n",
      "2020-10-14 14:13:42,514 — upload_to_s3 — INFO —upload_to_s3:72 — Upload \"/mtgp/UDACITY/json_paths/droughts.json\" to \"json_paths/droughts.json\".\n",
      "2020-10-14 14:13:42,514 — upload_to_s3 — INFO —upload_to_s3:72 — Upload \"/mtgp/UDACITY/json_paths/droughts.json\" to \"json_paths/droughts.json\".\n",
      "2020-10-14 14:13:42,514 — upload_to_s3 — INFO —upload_to_s3:72 — Upload \"/mtgp/UDACITY/json_paths/droughts.json\" to \"json_paths/droughts.json\".\n",
      "2020-10-14 14:13:42,514 — upload_to_s3 — INFO —upload_to_s3:72 — Upload \"/mtgp/UDACITY/json_paths/droughts.json\" to \"json_paths/droughts.json\".\n",
      "2020-10-14 14:13:42,614 — upload_to_s3 — INFO —upload_to_s3:72 — Upload \"/mtgp/UDACITY/json_paths/wildfires.json\" to \"json_paths/wildfires.json\".\n",
      "2020-10-14 14:13:42,614 — upload_to_s3 — INFO —upload_to_s3:72 — Upload \"/mtgp/UDACITY/json_paths/wildfires.json\" to \"json_paths/wildfires.json\".\n",
      "2020-10-14 14:13:42,614 — upload_to_s3 — INFO —upload_to_s3:72 — Upload \"/mtgp/UDACITY/json_paths/wildfires.json\" to \"json_paths/wildfires.json\".\n",
      "2020-10-14 14:13:42,614 — upload_to_s3 — INFO —upload_to_s3:72 — Upload \"/mtgp/UDACITY/json_paths/wildfires.json\" to \"json_paths/wildfires.json\".\n",
      "2020-10-14 14:13:42,614 — upload_to_s3 — INFO —upload_to_s3:72 — Upload \"/mtgp/UDACITY/json_paths/wildfires.json\" to \"json_paths/wildfires.json\".\n",
      "2020-10-14 14:13:42,614 — upload_to_s3 — INFO —upload_to_s3:72 — Upload \"/mtgp/UDACITY/json_paths/wildfires.json\" to \"json_paths/wildfires.json\".\n",
      "2020-10-14 14:13:42,832 — upload_to_s3 — INFO —upload_to_s3:72 — Upload \"/mtgp/UDACITY/json_paths/temperatures.json\" to \"json_paths/temperatures.json\".\n",
      "2020-10-14 14:13:42,832 — upload_to_s3 — INFO —upload_to_s3:72 — Upload \"/mtgp/UDACITY/json_paths/temperatures.json\" to \"json_paths/temperatures.json\".\n",
      "2020-10-14 14:13:42,832 — upload_to_s3 — INFO —upload_to_s3:72 — Upload \"/mtgp/UDACITY/json_paths/temperatures.json\" to \"json_paths/temperatures.json\".\n",
      "2020-10-14 14:13:42,832 — upload_to_s3 — INFO —upload_to_s3:72 — Upload \"/mtgp/UDACITY/json_paths/temperatures.json\" to \"json_paths/temperatures.json\".\n",
      "2020-10-14 14:13:42,832 — upload_to_s3 — INFO —upload_to_s3:72 — Upload \"/mtgp/UDACITY/json_paths/temperatures.json\" to \"json_paths/temperatures.json\".\n",
      "2020-10-14 14:13:42,832 — upload_to_s3 — INFO —upload_to_s3:72 — Upload \"/mtgp/UDACITY/json_paths/temperatures.json\" to \"json_paths/temperatures.json\".\n"
     ]
    },
    {
     "name": "stderr",
     "output_type": "stream",
     "text": [
      "1it [00:00,  1.20it/s]\n"
     ]
    }
   ],
   "source": [
    "for d in dirs:\n",
    "    aws_dwh.upload_to_s3(d, dwh)"
   ]
  },
  {
   "cell_type": "markdown",
   "metadata": {},
   "source": [
    "# EMR Cluster "
   ]
  },
  {
   "cell_type": "code",
   "execution_count": null,
   "metadata": {},
   "outputs": [],
   "source": [
    "stop_here()"
   ]
  },
  {
   "cell_type": "code",
   "execution_count": null,
   "metadata": {},
   "outputs": [],
   "source": [
    "client = boto3.client(\n",
    "    'emr',\n",
    "    region_name=dwh[\"aws\"][\"region\"],\n",
    "    aws_access_key_id=dwh[\"aws\"][\"access_key_id\"],\n",
    "    aws_secret_access_key=dwh[\"aws\"][\"secret_access_key\"]\n",
    ")"
   ]
  },
  {
   "cell_type": "code",
   "execution_count": null,
   "metadata": {},
   "outputs": [],
   "source": [
    "cluster_id = client.run_job_flow(\n",
    "    Name=\"park-capstone\",\n",
    "    LogUri=\"s3://.../\",\n",
    "    ReleaseLabel=\"emr-5.20.0\",\n",
    "    Applications=[\n",
    "        {\"Name\": \"Spark\"},\n",
    "        {\"Name\": \"Ganglia\"},\n",
    "        {\"Name\": \"Zeppelin\"}\n",
    "    ],\n",
    "    Instances={\n",
    "        \"InstanceGroups\": [\n",
    "            {\n",
    "                \"Name\": \"Master Instance Group\",\n",
    "                \"InstanceRole\": \"MASTER\",\n",
    "                \"InstanceType\": 'm5.xlarge',\n",
    "                \"InstanceCount\": 1,\n",
    "                \"EbsConfiguration\": {\n",
    "                    \"EbsBlockDeviceConfigs\": [{\n",
    "                        \"VolumeSpecification\": { \n",
    "                            \"SizeInGB\": 32,\n",
    "                            \"VolumeType\": \"gp2\"\n",
    "                        },\n",
    "                        \"VolumesPerInstance\": 1\n",
    "                    }]\n",
    "                },\n",
    "            },\n",
    "            {\n",
    "                \"Name\": \"Core Instance Group\",\n",
    "                \"InstanceRole\": \"CORE\",\n",
    "                \"InstanceType\": \"m5.xlarge\",\n",
    "                \"InstanceCount\": 3,\n",
    "                \"EbsConfiguration\": {\n",
    "                    \"EbsBlockDeviceConfigs\": [{\n",
    "                        \"VolumeSpecification\": { \n",
    "                            \"SizeInGB\": 32,\n",
    "                            \"VolumeType\": \"gp2\"\n",
    "                        },\n",
    "                        \"VolumesPerInstance\": 1\n",
    "                    }]\n",
    "                },\n",
    "            }\n",
    "        ],\n",
    "        \"TerminationProtected\": False,\n",
    "        \"Ec2KeyName\": \"spark-capstone\",\n",
    "        \"Ec2SubnetId\":\"subnet-...\",\n",
    "        \"EmrManagedSlaveSecurityGroup\":\"sg-...\",\n",
    "        \"EmrManagedMasterSecurityGroup\":\"sg-...\"\n",
    "        \n",
    "    },\n",
    "    ServiceRole='EMR_DefaultRole',\n",
    "    ScaleDownBehavior=\"TERMINATE_AT_TASK_COMPLETION\",\n",
    "      Configurations=[\n",
    "          {\n",
    "              \"Classification\": \"spark\",\n",
    "              \"Properties\": {}\n",
    "          },\n",
    "      ],\n",
    "    JobFlowRole=\"EMR_EC2_DefaultRole\",\n",
    ")"
   ]
  },
  {
   "cell_type": "code",
   "execution_count": null,
   "metadata": {},
   "outputs": [],
   "source": [
    "print(f\"Staring cluster {cluster_id}...\")"
   ]
  },
  {
   "cell_type": "code",
   "execution_count": null,
   "metadata": {},
   "outputs": [],
   "source": []
  }
 ],
 "metadata": {
  "kernelspec": {
   "display_name": "Python 3",
   "language": "python",
   "name": "python3"
  },
  "language_info": {
   "codemirror_mode": {
    "name": "ipython",
    "version": 3
   },
   "file_extension": ".py",
   "mimetype": "text/x-python",
   "name": "python",
   "nbconvert_exporter": "python",
   "pygments_lexer": "ipython3",
   "version": "3.6.9"
  }
 },
 "nbformat": 4,
 "nbformat_minor": 4
}
